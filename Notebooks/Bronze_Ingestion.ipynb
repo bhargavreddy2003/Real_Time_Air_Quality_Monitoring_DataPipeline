{
 "cells": [
  {
   "cell_type": "code",
   "execution_count": 0,
   "metadata": {
    "application/vnd.databricks.v1+cell": {
     "cellMetadata": {
      "byteLimit": 2048000,
      "rowLimit": 10000
     },
     "inputWidgets": {},
     "nuid": "bee3d8c2-44cf-43f9-8344-245fd13d729e",
     "showTitle": false,
     "tableResultSettingsMap": {},
     "title": ""
    }
   },
   "outputs": [],
   "source": [
    "from pyspark.sql.types import *\n",
    "from pyspark.sql.functions import *\n",
    "import os"
   ]
  },
  {
   "cell_type": "code",
   "execution_count": null,
   "metadata": {},
   "outputs": [],
   "source": [
    "kafka_server = os.getenv(\"kafka_server\")\n",
    "kafka_topic=os.getenv(\"kafka_topic\")\n",
    "kafka_hub=os.getenv(\"kafka_hub\")\n",
    "sasl_key= os.getenv(\"sasl_key\")"
   ]
  },
  {
   "cell_type": "code",
   "execution_count": 0,
   "metadata": {
    "application/vnd.databricks.v1+cell": {
     "cellMetadata": {
      "byteLimit": 2048000,
      "rowLimit": 10000
     },
     "inputWidgets": {},
     "nuid": "62ac1348-382d-4cdf-89fd-d0776f19b404",
     "showTitle": false,
     "tableResultSettingsMap": {},
     "title": ""
    }
   },
   "outputs": [],
   "source": [
    "df = spark.readStream.format(\"kafka\")\\\n",
    "    .option(\"kafka.bootstrap.servers\", kafka_server)\\\n",
    "    .option(\"subscribe\",kafka_topic)\\\n",
    "    .option(\"kafka.sasl.mechanism\", \"PLAIN\")\\\n",
    "    .option(\"kafka.security.protocol\", \"SASL_SSL\")\\\n",
    "    .option(\"kafka.sasl.jaas.config\", \n",
    "            'kafkashaded.org.apache.kafka.common.security.plain.PlainLoginModule required '\n",
    "            'username=\"$ConnectionString\" '\n",
    "            'password= f\"Endpoint=sb://{kafka_hub}.servicebus.windows.net/;SharedAccessKeyName=RootManageSharedAccessKey;SharedAccessKey={sasl_key}=\";')\\\n",
    "    .option(\"startingOffsets\", \"earliest\")\\\n",
    "    .load()\n"
   ]
  },
  {
   "cell_type": "code",
   "execution_count": 0,
   "metadata": {
    "application/vnd.databricks.v1+cell": {
     "cellMetadata": {
      "byteLimit": 2048000,
      "rowLimit": 10000
     },
     "inputWidgets": {},
     "nuid": "fa566db6-2f18-4973-a91f-5812e848da8f",
     "showTitle": false,
     "tableResultSettingsMap": {},
     "title": ""
    }
   },
   "outputs": [],
   "source": [
    "from pyspark.sql.types import *\n",
    "\n",
    "schema = StructType([\n",
    "    StructField(\"status\", StringType(), True),\n",
    "    StructField(\"data\", StructType([\n",
    "        StructField(\"aqi\", StringType(), True),\n",
    "        StructField(\"idx\", StringType(), True),\n",
    "        StructField(\"attributions\", ArrayType(\n",
    "            StructType([\n",
    "                StructField(\"url\", StringType(), True),\n",
    "                StructField(\"name\", StringType(), True),\n",
    "                StructField(\"logo\", StringType(), True)\n",
    "            ])\n",
    "        ), True),\n",
    "        StructField(\"city\", StructType([\n",
    "            StructField(\"geo\", ArrayType(StringType()), True),\n",
    "            StructField(\"name\", StringType(), True),\n",
    "            StructField(\"url\", StringType(), True),\n",
    "            StructField(\"location\", StringType(), True)\n",
    "        ]), True),\n",
    "        StructField(\"dominentpol\", StringType(), True),\n",
    "        StructField(\"iaqi\", StructType([\n",
    "            StructField(\"co\", StructType([StructField(\"v\", StringType(), True)]), True),\n",
    "            StructField(\"dew\", StructType([StructField(\"v\", StringType(), True)]), True),\n",
    "            StructField(\"h\", StructType([StructField(\"v\", StringType(), True)]), True),\n",
    "            StructField(\"no2\", StructType([StructField(\"v\", StringType(), True)]), True),\n",
    "            StructField(\"o3\", StructType([StructField(\"v\", StringType(), True)]), True),\n",
    "            StructField(\"p\", StructType([StructField(\"v\", StringType(), True)]), True),\n",
    "            StructField(\"pm10\", StructType([StructField(\"v\", StringType(), True)]), True),\n",
    "            StructField(\"pm25\", StructType([StructField(\"v\", StringType(), True)]), True),\n",
    "            StructField(\"so2\", StructType([StructField(\"v\", StringType(), True)]), True),\n",
    "            StructField(\"t\", StructType([StructField(\"v\", StringType(), True)]), True),\n",
    "            StructField(\"w\", StructType([StructField(\"v\", StringType(), True)]), True),\n",
    "            StructField(\"wg\", StructType([StructField(\"v\", StringType(), True)]), True)\n",
    "        ]), True),\n",
    "        StructField(\"time\", StructType([\n",
    "            StructField(\"s\", StringType(), True),\n",
    "            StructField(\"tz\", StringType(), True),\n",
    "            StructField(\"v\", StringType(), True),\n",
    "            StructField(\"iso\", StringType(), True)\n",
    "        ]), True),\n",
    "        StructField(\"forecast\", StructType([\n",
    "            StructField(\"daily\", StructType([\n",
    "                StructField(\"pm10\", ArrayType(\n",
    "                    StructType([\n",
    "                        StructField(\"avg\", StringType(), True),\n",
    "                        StructField(\"day\", StringType(), True),\n",
    "                        StructField(\"max\", StringType(), True),\n",
    "                        StructField(\"min\", StringType(), True)\n",
    "                    ])\n",
    "                ), True),\n",
    "                StructField(\"pm25\", ArrayType(\n",
    "                    StructType([\n",
    "                        StructField(\"avg\", StringType(), True),\n",
    "                        StructField(\"day\", StringType(), True),\n",
    "                        StructField(\"max\", StringType(), True),\n",
    "                        StructField(\"min\", StringType(), True)\n",
    "                    ])\n",
    "                ), True),\n",
    "                StructField(\"uvi\", ArrayType(\n",
    "                    StructType([\n",
    "                        StructField(\"avg\", StringType(), True),\n",
    "                        StructField(\"day\", StringType(), True),\n",
    "                        StructField(\"max\", StringType(), True),\n",
    "                        StructField(\"min\", StringType(), True)\n",
    "                    ])\n",
    "                ), True)\n",
    "            ]), True)\n",
    "        ]), True),\n",
    "        StructField(\"debug\", StructType([\n",
    "            StructField(\"sync\", StringType(), True)\n",
    "        ]), True)\n",
    "    ]), True)\n",
    "])\n"
   ]
  },
  {
   "cell_type": "code",
   "execution_count": 0,
   "metadata": {
    "application/vnd.databricks.v1+cell": {
     "cellMetadata": {
      "byteLimit": 2048000,
      "rowLimit": 10000
     },
     "inputWidgets": {},
     "nuid": "bbcb733b-c3a4-49d8-973c-b9a1b3ff91d2",
     "showTitle": false,
     "tableResultSettingsMap": {},
     "title": ""
    }
   },
   "outputs": [],
   "source": [
    "df_json =   df.select(\n",
    "    from_json(col(\"value\").cast(\"string\"), schema).alias(\"df_json\")\n",
    ")"
   ]
  },
  {
   "cell_type": "code",
   "execution_count": 0,
   "metadata": {
    "application/vnd.databricks.v1+cell": {
     "cellMetadata": {
      "byteLimit": 2048000,
      "rowLimit": 10000
     },
     "inputWidgets": {},
     "nuid": "9515a888-7b5f-4d01-a316-828b3fb5041d",
     "showTitle": false,
     "tableResultSettingsMap": {},
     "title": ""
    }
   },
   "outputs": [],
   "source": [
    "df_flat = df_json.select(\n",
    "    col(\"df_json.data.aqi\"),\n",
    "    col(\"df_json.data.idx\"),\n",
    "    col(\"df_json.data.city.name\").alias(\"city_name\"),\n",
    "    col(\"df_json.data.dominentpol\").alias(\"dominant_pollutant\"),\n",
    "    col(\"df_json.data.iaqi.co.v\").alias(\"co\"),\n",
    "    col(\"df_json.data.iaqi.dew.v\").alias(\"dew\"),\n",
    "    col(\"df_json.data.iaqi.h.v\").alias(\"humidity\"),\n",
    "    col(\"df_json.data.iaqi.no2.v\").alias(\"no2\"),\n",
    "    col(\"df_json.data.iaqi.o3.v\").alias(\"o3\"),\n",
    "    col(\"df_json.data.iaqi.p.v\").alias(\"pressure\"),\n",
    "    col(\"df_json.data.iaqi.pm10.v\").alias(\"pm10\"),\n",
    "    col(\"df_json.data.iaqi.pm25.v\").alias(\"pm25\"),\n",
    "    col(\"df_json.data.iaqi.so2.v\").alias(\"so2\"),\n",
    "    col(\"df_json.data.iaqi.t.v\").alias(\"temperature\"),\n",
    "    col(\"df_json.data.iaqi.w.v\").alias(\"wind_speed\"),\n",
    "    col(\"df_json.data.iaqi.wg.v\").alias(\"wind_gust\"),\n",
    "    col(\"df_json.data.time.s\").alias(\"time_s\")\n",
    ")"
   ]
  },
  {
   "cell_type": "code",
   "execution_count": 0,
   "metadata": {
    "application/vnd.databricks.v1+cell": {
     "cellMetadata": {
      "byteLimit": 2048000,
      "rowLimit": 10000
     },
     "inputWidgets": {},
     "nuid": "3d17ccce-39d6-4893-ba11-f2dec6c63710",
     "showTitle": false,
     "tableResultSettingsMap": {},
     "title": ""
    }
   },
   "outputs": [],
   "source": [
    "df_clean = df_flat.na.drop()\n",
    "df_clean.display()"
   ]
  },
  {
   "cell_type": "code",
   "execution_count": 0,
   "metadata": {
    "application/vnd.databricks.v1+cell": {
     "cellMetadata": {
      "byteLimit": 2048000,
      "rowLimit": 10000
     },
     "inputWidgets": {},
     "nuid": "1e62cdec-d8a0-40a1-a6d6-2732e3a17385",
     "showTitle": false,
     "tableResultSettingsMap": {},
     "title": ""
    }
   },
   "outputs": [
    {
     "name": "stdout",
     "output_type": "stream",
     "text": [
      "Stopping: 4739c0fe-8bb3-4385-94a5-b6050c2cca20\n"
     ]
    }
   ],
   "source": [
    "\n"
   ]
  },
  {
   "cell_type": "code",
   "execution_count": 0,
   "metadata": {
    "application/vnd.databricks.v1+cell": {
     "cellMetadata": {
      "byteLimit": 2048000,
      "implicitDf": true,
      "rowLimit": 10000
     },
     "inputWidgets": {},
     "nuid": "ffdeb5ee-dc75-4404-b734-9c47d496b0bf",
     "showTitle": false,
     "tableResultSettingsMap": {},
     "title": ""
    }
   },
   "outputs": [],
   "source": [
    "df_clean.writeStream.format(\"delta\")\\\n",
    "    .option(\"checkpointLocation\", \"/Volumes/kafka_azure_databricks/bronze/checkpoint\")\\\n",
    "    .trigger(once=True)\\\n",
    "    .outputMode(\"append\")\\\n",
    "    .toTable('kafka_azure_databricks.bronze.weatherTable')\n"
   ]
  },
  {
   "cell_type": "code",
   "execution_count": 0,
   "metadata": {
    "application/vnd.databricks.v1+cell": {
     "cellMetadata": {
      "byteLimit": 2048000,
      "implicitDf": true,
      "rowLimit": 10000
     },
     "inputWidgets": {},
     "nuid": "1b550985-b37e-4db8-8ca8-181ad1dcedaf",
     "showTitle": false,
     "tableResultSettingsMap": {},
     "title": ""
    }
   },
   "outputs": [
    {
     "data": {
      "text/html": [
       "<style scoped>\n",
       "  .table-result-container {\n",
       "    max-height: 300px;\n",
       "    overflow: auto;\n",
       "  }\n",
       "  table, th, td {\n",
       "    border: 1px solid black;\n",
       "    border-collapse: collapse;\n",
       "  }\n",
       "  th, td {\n",
       "    padding: 5px;\n",
       "  }\n",
       "  th {\n",
       "    text-align: left;\n",
       "  }\n",
       "</style><div class='table-result-container'><table class='table-result'><thead style='background-color: white'><tr><th>tableName</th></tr></thead><tbody><tr><td>weathertable</td></tr><tr><td>display_query_1</td></tr></tbody></table></div>"
      ]
     },
     "metadata": {
      "application/vnd.databricks.v1+output": {
       "addedWidgets": {},
       "aggData": [],
       "aggError": "",
       "aggOverflow": false,
       "aggSchema": [],
       "aggSeriesLimitReached": false,
       "aggType": "",
       "arguments": {},
       "columnCustomDisplayInfos": {},
       "data": [
        [
         "weathertable"
        ],
        [
         "display_query_1"
        ]
       ],
       "datasetInfos": [],
       "dbfsResultPath": null,
       "isJsonSchema": true,
       "metadata": {},
       "overflow": false,
       "plotOptions": {
        "customPlotOptions": {},
        "displayType": "table",
        "pivotAggregation": null,
        "pivotColumns": null,
        "xColumns": null,
        "yColumns": null
       },
       "removedWidgets": [],
       "schema": [
        {
         "metadata": "{}",
         "name": "tableName",
         "type": "\"string\""
        }
       ],
       "type": "table"
      }
     },
     "output_type": "display_data"
    }
   ],
   "source": [
    "spark.sql(\"SHOW TABLES IN kafka_azure_databricks.bronze\").select(\"tableName\").display()\n"
   ]
  },
  {
   "cell_type": "code",
   "execution_count": 0,
   "metadata": {
    "application/vnd.databricks.v1+cell": {
     "cellMetadata": {
      "byteLimit": 2048000,
      "implicitDf": true,
      "rowLimit": 10000
     },
     "inputWidgets": {},
     "nuid": "68033942-82a8-45d6-a1dc-93e4f84d0787",
     "showTitle": false,
     "tableResultSettingsMap": {},
     "title": ""
    }
   },
   "outputs": [
    {
     "data": {
      "text/html": [
       "<style scoped>\n",
       "  .table-result-container {\n",
       "    max-height: 300px;\n",
       "    overflow: auto;\n",
       "  }\n",
       "  table, th, td {\n",
       "    border: 1px solid black;\n",
       "    border-collapse: collapse;\n",
       "  }\n",
       "  th, td {\n",
       "    padding: 5px;\n",
       "  }\n",
       "  th {\n",
       "    text-align: left;\n",
       "  }\n",
       "</style><div class='table-result-container'><table class='table-result'><thead style='background-color: white'><tr><th>aqi</th><th>idx</th><th>city_name</th><th>dominant_pollutant</th><th>co</th><th>dew</th><th>humidity</th><th>no2</th><th>o3</th><th>pressure</th><th>pm10</th><th>pm25</th><th>so2</th><th>temperature</th><th>wind_speed</th><th>wind_gust</th><th>time_s</th></tr></thead><tbody><tr><td>51</td><td>11847</td><td>SIDCO Kurichi, Coimbatore, India</td><td>pm10</td><td>2.7</td><td>20</td><td>52.47</td><td>2.6</td><td>2.6</td><td>800.3</td><td>51</td><td>50</td><td>9.1</td><td>34</td><td>5.41</td><td>12.3</td><td>2025-07-30 15:00:00</td></tr><tr><td>68</td><td>10111</td><td>Major Dhyan Chand National Stadium, Delhi, Delhi, India</td><td>pm25</td><td>3.2</td><td>28</td><td>62.75</td><td>10.4</td><td>4</td><td>973.05</td><td>37</td><td>68</td><td>5.2</td><td>31.45</td><td>1</td><td>10.2</td><td>2025-07-30 15:00:00</td></tr><tr><td>70</td><td>11313</td><td>Bhopal Chauraha, Dewas, India</td><td>pm25</td><td>2.9</td><td>23</td><td>36</td><td>13.9</td><td>10.1</td><td>1004</td><td>66</td><td>70</td><td>26.3</td><td>30.3</td><td>1</td><td>9.7</td><td>2025-07-30 15:00:00</td></tr><tr><td>41</td><td>14152</td><td>Mendonsa Colony, Dindigul, India</td><td>pm25</td><td>0.5</td><td>20</td><td>46.44</td><td>0.1</td><td>3.3</td><td>969.02</td><td>23</td><td>41</td><td>8.6</td><td>38</td><td>3.25</td><td>11.8</td><td>2025-07-30 15:00:00</td></tr><tr><td>94</td><td>13731</td><td>IIPHG Lekawada, Gandhinagar, India</td><td>pm25</td><td>4.4</td><td>23</td><td>87.24</td><td>3</td><td>14.2</td><td>1002.7</td><td>70</td><td>94</td><td>4.9</td><td>29</td><td>0.58</td><td>7.7</td><td>2025-07-30 15:00:00</td></tr><tr><td>35</td><td>14697</td><td>Zero Point GICI, Gangtok, India</td><td>pm25</td><td>1.9</td><td>17</td><td>97.16</td><td>1.1</td><td>18.2</td><td>616.48</td><td>2</td><td>35</td><td>0.3</td><td>20</td><td>0.33</td><td>7.2</td><td>2025-07-30 15:00:00</td></tr><tr><td>55</td><td>11899</td><td>Sanjay Nagar, Ghaziabad, India</td><td>pm25</td><td>5.7</td><td>28</td><td>57</td><td>11.4</td><td>14.4</td><td>738</td><td>46</td><td>55</td><td>7.7</td><td>29.1</td><td>2.1</td><td>10.2</td><td>2025-07-30 15:00:00</td></tr><tr><td>96</td><td>11843</td><td>GIDC, Ankleshwar, India</td><td>pm25</td><td>3.8</td><td>25</td><td>79.79</td><td>10.1</td><td>28.5</td><td>1000</td><td>52</td><td>96</td><td>20.3</td><td>31.84</td><td>3.33</td><td>8.7</td><td>2025-07-30 15:00:00</td></tr><tr><td>70</td><td>13874</td><td>New DM Office, Arrah, India</td><td>pm25</td><td>3.1</td><td>27</td><td>88</td><td>2.5</td><td>3.2</td><td>997</td><td>41</td><td>70</td><td>2.9</td><td>26.674999999999997</td><td>0.55</td><td>9.2</td><td>2025-07-30 14:00:00</td></tr><tr><td>32</td><td>14700</td><td>Gurdeo Nagar, Aurangabad, India</td><td>pm25</td><td>0.6</td><td>27</td><td>79</td><td>2.9</td><td>3.8</td><td>997</td><td>16</td><td>32</td><td>3.5</td><td>27.4</td><td>1.5</td><td>9.2</td><td>2025-07-30 15:00:00</td></tr><tr><td>24</td><td>14141</td><td>Sardar Patel Inter College, Baghpat, India</td><td>pm25</td><td>4.6</td><td>28</td><td>68</td><td>11.6</td><td>18.9</td><td>740</td><td>18</td><td>24</td><td>7.4</td><td>28.2</td><td>1.9</td><td>10.2</td><td>2025-07-30 15:00:00</td></tr><tr><td>113</td><td>11848</td><td>RIICO Ind. Area III, Bhiwadi, India</td><td>pm25</td><td>10.3</td><td>28</td><td>96.74</td><td>5.5</td><td>10.5</td><td>733.25</td><td>46</td><td>113</td><td>3.4</td><td>33.26</td><td>0.24</td><td>10.2</td><td>2025-07-30 15:00:00</td></tr><tr><td>148</td><td>13743</td><td>D M Colony, Bihar Sharif, India</td><td>pm25</td><td>0.2</td><td>28</td><td>75</td><td>3.4</td><td>15.6</td><td>997</td><td>66</td><td>148</td><td>3.7</td><td>33.4</td><td>1.4</td><td>9.2</td><td>2025-07-30 15:00:00</td></tr><tr><td>60</td><td>11302</td><td>Yamunapuram, Bulandshahr, India</td><td>pm25</td><td>6.2</td><td>28</td><td>67</td><td>4.6</td><td>7.4</td><td>734</td><td>40</td><td>60</td><td>7.1</td><td>27.8</td><td>3.9</td><td>10.2</td><td>2025-07-30 15:00:00</td></tr><tr><td>62</td><td>13737</td><td>Royapuram, Chennai, Chennai, India</td><td>pm10</td><td>5.1</td><td>25</td><td>57</td><td>14.4</td><td>8.3</td><td>733</td><td>62</td><td>44</td><td>2.2</td><td>28.3</td><td>2.9</td><td>10.2</td><td>2025-07-30 15:00:00</td></tr><tr><td>168</td><td>13813</td><td>Darshan Nagar, Chhapra, India</td><td>pm25</td><td>1.1</td><td>28</td><td>77</td><td>43.9</td><td>15.5</td><td>997</td><td>92</td><td>168</td><td>2.7</td><td>27.8</td><td>1.2</td><td>9.2</td><td>2025-07-30 15:00:00</td></tr><tr><td>88</td><td>11321</td><td>Golden Temple, Amritsar, India</td><td>pm25</td><td>3.5</td><td>26</td><td>65.39</td><td>5.4</td><td>12.7</td><td>999.5</td><td>54</td><td>88</td><td>3.9</td><td>20.88</td><td>1.09</td><td>9.2</td><td>2025-07-30 15:00:00</td></tr><tr><td>59</td><td>8192</td><td>Maninagar, Ahmedabad, India</td><td>pm25</td><td>5.6</td><td>23</td><td>99.999</td><td>6.7</td><td>7.8</td><td>1001</td><td>56</td><td>59</td><td>13.3</td><td>29</td><td>0.54</td><td>7.7</td><td>2025-07-30 15:00:00</td></tr></tbody></table></div>"
      ]
     },
     "metadata": {
      "application/vnd.databricks.v1+output": {
       "addedWidgets": {},
       "aggData": [],
       "aggError": "",
       "aggOverflow": false,
       "aggSchema": [],
       "aggSeriesLimitReached": false,
       "aggType": "",
       "arguments": {},
       "columnCustomDisplayInfos": {},
       "data": [
        [
         "51",
         "11847",
         "SIDCO Kurichi, Coimbatore, India",
         "pm10",
         "2.7",
         "20",
         "52.47",
         "2.6",
         "2.6",
         "800.3",
         "51",
         "50",
         "9.1",
         "34",
         "5.41",
         "12.3",
         "2025-07-30 15:00:00"
        ],
        [
         "68",
         "10111",
         "Major Dhyan Chand National Stadium, Delhi, Delhi, India",
         "pm25",
         "3.2",
         "28",
         "62.75",
         "10.4",
         "4",
         "973.05",
         "37",
         "68",
         "5.2",
         "31.45",
         "1",
         "10.2",
         "2025-07-30 15:00:00"
        ],
        [
         "70",
         "11313",
         "Bhopal Chauraha, Dewas, India",
         "pm25",
         "2.9",
         "23",
         "36",
         "13.9",
         "10.1",
         "1004",
         "66",
         "70",
         "26.3",
         "30.3",
         "1",
         "9.7",
         "2025-07-30 15:00:00"
        ],
        [
         "41",
         "14152",
         "Mendonsa Colony, Dindigul, India",
         "pm25",
         "0.5",
         "20",
         "46.44",
         "0.1",
         "3.3",
         "969.02",
         "23",
         "41",
         "8.6",
         "38",
         "3.25",
         "11.8",
         "2025-07-30 15:00:00"
        ],
        [
         "94",
         "13731",
         "IIPHG Lekawada, Gandhinagar, India",
         "pm25",
         "4.4",
         "23",
         "87.24",
         "3",
         "14.2",
         "1002.7",
         "70",
         "94",
         "4.9",
         "29",
         "0.58",
         "7.7",
         "2025-07-30 15:00:00"
        ],
        [
         "35",
         "14697",
         "Zero Point GICI, Gangtok, India",
         "pm25",
         "1.9",
         "17",
         "97.16",
         "1.1",
         "18.2",
         "616.48",
         "2",
         "35",
         "0.3",
         "20",
         "0.33",
         "7.2",
         "2025-07-30 15:00:00"
        ],
        [
         "55",
         "11899",
         "Sanjay Nagar, Ghaziabad, India",
         "pm25",
         "5.7",
         "28",
         "57",
         "11.4",
         "14.4",
         "738",
         "46",
         "55",
         "7.7",
         "29.1",
         "2.1",
         "10.2",
         "2025-07-30 15:00:00"
        ],
        [
         "96",
         "11843",
         "GIDC, Ankleshwar, India",
         "pm25",
         "3.8",
         "25",
         "79.79",
         "10.1",
         "28.5",
         "1000",
         "52",
         "96",
         "20.3",
         "31.84",
         "3.33",
         "8.7",
         "2025-07-30 15:00:00"
        ],
        [
         "70",
         "13874",
         "New DM Office, Arrah, India",
         "pm25",
         "3.1",
         "27",
         "88",
         "2.5",
         "3.2",
         "997",
         "41",
         "70",
         "2.9",
         "26.674999999999997",
         "0.55",
         "9.2",
         "2025-07-30 14:00:00"
        ],
        [
         "32",
         "14700",
         "Gurdeo Nagar, Aurangabad, India",
         "pm25",
         "0.6",
         "27",
         "79",
         "2.9",
         "3.8",
         "997",
         "16",
         "32",
         "3.5",
         "27.4",
         "1.5",
         "9.2",
         "2025-07-30 15:00:00"
        ],
        [
         "24",
         "14141",
         "Sardar Patel Inter College, Baghpat, India",
         "pm25",
         "4.6",
         "28",
         "68",
         "11.6",
         "18.9",
         "740",
         "18",
         "24",
         "7.4",
         "28.2",
         "1.9",
         "10.2",
         "2025-07-30 15:00:00"
        ],
        [
         "113",
         "11848",
         "RIICO Ind. Area III, Bhiwadi, India",
         "pm25",
         "10.3",
         "28",
         "96.74",
         "5.5",
         "10.5",
         "733.25",
         "46",
         "113",
         "3.4",
         "33.26",
         "0.24",
         "10.2",
         "2025-07-30 15:00:00"
        ],
        [
         "148",
         "13743",
         "D M Colony, Bihar Sharif, India",
         "pm25",
         "0.2",
         "28",
         "75",
         "3.4",
         "15.6",
         "997",
         "66",
         "148",
         "3.7",
         "33.4",
         "1.4",
         "9.2",
         "2025-07-30 15:00:00"
        ],
        [
         "60",
         "11302",
         "Yamunapuram, Bulandshahr, India",
         "pm25",
         "6.2",
         "28",
         "67",
         "4.6",
         "7.4",
         "734",
         "40",
         "60",
         "7.1",
         "27.8",
         "3.9",
         "10.2",
         "2025-07-30 15:00:00"
        ],
        [
         "62",
         "13737",
         "Royapuram, Chennai, Chennai, India",
         "pm10",
         "5.1",
         "25",
         "57",
         "14.4",
         "8.3",
         "733",
         "62",
         "44",
         "2.2",
         "28.3",
         "2.9",
         "10.2",
         "2025-07-30 15:00:00"
        ],
        [
         "168",
         "13813",
         "Darshan Nagar, Chhapra, India",
         "pm25",
         "1.1",
         "28",
         "77",
         "43.9",
         "15.5",
         "997",
         "92",
         "168",
         "2.7",
         "27.8",
         "1.2",
         "9.2",
         "2025-07-30 15:00:00"
        ],
        [
         "88",
         "11321",
         "Golden Temple, Amritsar, India",
         "pm25",
         "3.5",
         "26",
         "65.39",
         "5.4",
         "12.7",
         "999.5",
         "54",
         "88",
         "3.9",
         "20.88",
         "1.09",
         "9.2",
         "2025-07-30 15:00:00"
        ],
        [
         "59",
         "8192",
         "Maninagar, Ahmedabad, India",
         "pm25",
         "5.6",
         "23",
         "99.999",
         "6.7",
         "7.8",
         "1001",
         "56",
         "59",
         "13.3",
         "29",
         "0.54",
         "7.7",
         "2025-07-30 15:00:00"
        ]
       ],
       "datasetInfos": [],
       "dbfsResultPath": null,
       "isJsonSchema": true,
       "metadata": {
        "dataframeName": "_sqldf",
        "executionCount": 14
       },
       "overflow": false,
       "plotOptions": {
        "customPlotOptions": {},
        "displayType": "table",
        "pivotAggregation": null,
        "pivotColumns": null,
        "xColumns": null,
        "yColumns": null
       },
       "removedWidgets": [],
       "schema": [
        {
         "metadata": "{}",
         "name": "aqi",
         "type": "\"string\""
        },
        {
         "metadata": "{}",
         "name": "idx",
         "type": "\"string\""
        },
        {
         "metadata": "{}",
         "name": "city_name",
         "type": "\"string\""
        },
        {
         "metadata": "{}",
         "name": "dominant_pollutant",
         "type": "\"string\""
        },
        {
         "metadata": "{}",
         "name": "co",
         "type": "\"string\""
        },
        {
         "metadata": "{}",
         "name": "dew",
         "type": "\"string\""
        },
        {
         "metadata": "{}",
         "name": "humidity",
         "type": "\"string\""
        },
        {
         "metadata": "{}",
         "name": "no2",
         "type": "\"string\""
        },
        {
         "metadata": "{}",
         "name": "o3",
         "type": "\"string\""
        },
        {
         "metadata": "{}",
         "name": "pressure",
         "type": "\"string\""
        },
        {
         "metadata": "{}",
         "name": "pm10",
         "type": "\"string\""
        },
        {
         "metadata": "{}",
         "name": "pm25",
         "type": "\"string\""
        },
        {
         "metadata": "{}",
         "name": "so2",
         "type": "\"string\""
        },
        {
         "metadata": "{}",
         "name": "temperature",
         "type": "\"string\""
        },
        {
         "metadata": "{}",
         "name": "wind_speed",
         "type": "\"string\""
        },
        {
         "metadata": "{}",
         "name": "wind_gust",
         "type": "\"string\""
        },
        {
         "metadata": "{}",
         "name": "time_s",
         "type": "\"string\""
        }
       ],
       "type": "table"
      }
     },
     "output_type": "display_data"
    }
   ],
   "source": [
    "%sql\n",
    "SELECT * FROM kafka_azure_databricks.bronze.weathertable;\n"
   ]
  },
  {
   "cell_type": "code",
   "execution_count": 0,
   "metadata": {
    "application/vnd.databricks.v1+cell": {
     "cellMetadata": {
      "byteLimit": 2048000,
      "implicitDf": true,
      "rowLimit": 10000
     },
     "inputWidgets": {},
     "nuid": "4d3bf72c-7fdd-4c15-be10-058a43e3aa58",
     "showTitle": false,
     "tableResultSettingsMap": {},
     "title": ""
    }
   },
   "outputs": [
    {
     "data": {
      "text/html": [
       "<style scoped>\n",
       "  .table-result-container {\n",
       "    max-height: 300px;\n",
       "    overflow: auto;\n",
       "  }\n",
       "  table, th, td {\n",
       "    border: 1px solid black;\n",
       "    border-collapse: collapse;\n",
       "  }\n",
       "  th, td {\n",
       "    padding: 5px;\n",
       "  }\n",
       "  th {\n",
       "    text-align: left;\n",
       "  }\n",
       "</style><div class='table-result-container'><table class='table-result'><thead style='background-color: white'><tr><th>num_affected_rows</th><th>num_inserted_rows</th></tr></thead><tbody><tr><td>1</td><td>1</td></tr></tbody></table></div>"
      ]
     },
     "metadata": {
      "application/vnd.databricks.v1+output": {
       "addedWidgets": {},
       "aggData": [],
       "aggError": "",
       "aggOverflow": false,
       "aggSchema": [],
       "aggSeriesLimitReached": false,
       "aggType": "",
       "arguments": {},
       "columnCustomDisplayInfos": {},
       "data": [
        [
         1,
         1
        ]
       ],
       "datasetInfos": [
        {
         "name": "_sqldf",
         "schema": {
          "fields": [
           {
            "metadata": {},
            "name": "num_affected_rows",
            "nullable": true,
            "type": "long"
           },
           {
            "metadata": {},
            "name": "num_inserted_rows",
            "nullable": true,
            "type": "long"
           }
          ],
          "type": "struct"
         },
         "tableIdentifier": null,
         "typeStr": "pyspark.sql.dataframe.DataFrame"
        }
       ],
       "dbfsResultPath": null,
       "isJsonSchema": true,
       "metadata": {
        "createTempViewForImplicitDf": true,
        "dataframeName": "_sqldf",
        "executionCount": 2
       },
       "overflow": false,
       "plotOptions": {
        "customPlotOptions": {},
        "displayType": "table",
        "pivotAggregation": null,
        "pivotColumns": null,
        "xColumns": null,
        "yColumns": null
       },
       "removedWidgets": [],
       "schema": [
        {
         "metadata": "{}",
         "name": "num_affected_rows",
         "type": "\"long\""
        },
        {
         "metadata": "{}",
         "name": "num_inserted_rows",
         "type": "\"long\""
        }
       ],
       "type": "table"
      }
     },
     "output_type": "display_data"
    }
   ],
   "source": [
    "%sql\n",
    "INSERT INTO kafka_azure_databricks.bronze.weathertable (\n",
    "  aqi, idx, city_name, dominant_pollutant, co, dew, humidity, no2, o3, pressure,\n",
    "  pm10, pm25, so2, temperature, wind_speed, wind_gust, time_s\n",
    ")\n",
    "VALUES (\n",
    "  59, 8192, 'Maninagar, Ahmedabad, India', 'pm25', 5.6, 23, 95.000, 6.7, 7.8, 1001,\n",
    "  56, 59, 13.3, 28, 0.54, 7.7,\n",
    "  TIMESTAMP('2025-08-01T15:00:00.000Z')\n",
    ");\n"
   ]
  },
  {
   "cell_type": "code",
   "execution_count": 0,
   "metadata": {
    "application/vnd.databricks.v1+cell": {
     "cellMetadata": {
      "byteLimit": 2048000,
      "implicitDf": true,
      "rowLimit": 10000
     },
     "inputWidgets": {},
     "nuid": "9727e503-17a4-4dc7-96b5-ccd9dc7f2294",
     "showTitle": false,
     "tableResultSettingsMap": {},
     "title": ""
    }
   },
   "outputs": [
    {
     "data": {
      "text/html": [
       "<style scoped>\n",
       "  .table-result-container {\n",
       "    max-height: 300px;\n",
       "    overflow: auto;\n",
       "  }\n",
       "  table, th, td {\n",
       "    border: 1px solid black;\n",
       "    border-collapse: collapse;\n",
       "  }\n",
       "  th, td {\n",
       "    padding: 5px;\n",
       "  }\n",
       "  th {\n",
       "    text-align: left;\n",
       "  }\n",
       "</style><div class='table-result-container'><table class='table-result'><thead style='background-color: white'><tr><th>aqi</th><th>idx</th><th>city_name</th><th>dominant_pollutant</th><th>co</th><th>dew</th><th>humidity</th><th>no2</th><th>o3</th><th>pressure</th><th>pm10</th><th>pm25</th><th>so2</th><th>temperature</th><th>wind_speed</th><th>wind_gust</th><th>time_s</th></tr></thead><tbody><tr><td>51</td><td>11847</td><td>SIDCO Kurichi, Coimbatore, India</td><td>pm10</td><td>2.7</td><td>20</td><td>52.47</td><td>2.6</td><td>2.6</td><td>800.3</td><td>51</td><td>50</td><td>9.1</td><td>34</td><td>5.41</td><td>12.3</td><td>2025-07-30 15:00:00</td></tr><tr><td>68</td><td>10111</td><td>Major Dhyan Chand National Stadium, Delhi, Delhi, India</td><td>pm25</td><td>3.2</td><td>28</td><td>62.75</td><td>10.4</td><td>4</td><td>973.05</td><td>37</td><td>68</td><td>5.2</td><td>31.45</td><td>1</td><td>10.2</td><td>2025-07-30 15:00:00</td></tr><tr><td>70</td><td>11313</td><td>Bhopal Chauraha, Dewas, India</td><td>pm25</td><td>2.9</td><td>23</td><td>36</td><td>13.9</td><td>10.1</td><td>1004</td><td>66</td><td>70</td><td>26.3</td><td>30.3</td><td>1</td><td>9.7</td><td>2025-07-30 15:00:00</td></tr><tr><td>41</td><td>14152</td><td>Mendonsa Colony, Dindigul, India</td><td>pm25</td><td>0.5</td><td>20</td><td>46.44</td><td>0.1</td><td>3.3</td><td>969.02</td><td>23</td><td>41</td><td>8.6</td><td>38</td><td>3.25</td><td>11.8</td><td>2025-07-30 15:00:00</td></tr><tr><td>94</td><td>13731</td><td>IIPHG Lekawada, Gandhinagar, India</td><td>pm25</td><td>4.4</td><td>23</td><td>87.24</td><td>3</td><td>14.2</td><td>1002.7</td><td>70</td><td>94</td><td>4.9</td><td>29</td><td>0.58</td><td>7.7</td><td>2025-07-30 15:00:00</td></tr><tr><td>35</td><td>14697</td><td>Zero Point GICI, Gangtok, India</td><td>pm25</td><td>1.9</td><td>17</td><td>97.16</td><td>1.1</td><td>18.2</td><td>616.48</td><td>2</td><td>35</td><td>0.3</td><td>20</td><td>0.33</td><td>7.2</td><td>2025-07-30 15:00:00</td></tr><tr><td>55</td><td>11899</td><td>Sanjay Nagar, Ghaziabad, India</td><td>pm25</td><td>5.7</td><td>28</td><td>57</td><td>11.4</td><td>14.4</td><td>738</td><td>46</td><td>55</td><td>7.7</td><td>29.1</td><td>2.1</td><td>10.2</td><td>2025-07-30 15:00:00</td></tr><tr><td>96</td><td>11843</td><td>GIDC, Ankleshwar, India</td><td>pm25</td><td>3.8</td><td>25</td><td>79.79</td><td>10.1</td><td>28.5</td><td>1000</td><td>52</td><td>96</td><td>20.3</td><td>31.84</td><td>3.33</td><td>8.7</td><td>2025-07-30 15:00:00</td></tr><tr><td>70</td><td>13874</td><td>New DM Office, Arrah, India</td><td>pm25</td><td>3.1</td><td>27</td><td>88</td><td>2.5</td><td>3.2</td><td>997</td><td>41</td><td>70</td><td>2.9</td><td>26.674999999999997</td><td>0.55</td><td>9.2</td><td>2025-07-30 14:00:00</td></tr><tr><td>32</td><td>14700</td><td>Gurdeo Nagar, Aurangabad, India</td><td>pm25</td><td>0.6</td><td>27</td><td>79</td><td>2.9</td><td>3.8</td><td>997</td><td>16</td><td>32</td><td>3.5</td><td>27.4</td><td>1.5</td><td>9.2</td><td>2025-07-30 15:00:00</td></tr><tr><td>24</td><td>14141</td><td>Sardar Patel Inter College, Baghpat, India</td><td>pm25</td><td>4.6</td><td>28</td><td>68</td><td>11.6</td><td>18.9</td><td>740</td><td>18</td><td>24</td><td>7.4</td><td>28.2</td><td>1.9</td><td>10.2</td><td>2025-07-30 15:00:00</td></tr><tr><td>113</td><td>11848</td><td>RIICO Ind. Area III, Bhiwadi, India</td><td>pm25</td><td>10.3</td><td>28</td><td>96.74</td><td>5.5</td><td>10.5</td><td>733.25</td><td>46</td><td>113</td><td>3.4</td><td>33.26</td><td>0.24</td><td>10.2</td><td>2025-07-30 15:00:00</td></tr><tr><td>148</td><td>13743</td><td>D M Colony, Bihar Sharif, India</td><td>pm25</td><td>0.2</td><td>28</td><td>75</td><td>3.4</td><td>15.6</td><td>997</td><td>66</td><td>148</td><td>3.7</td><td>33.4</td><td>1.4</td><td>9.2</td><td>2025-07-30 15:00:00</td></tr><tr><td>60</td><td>11302</td><td>Yamunapuram, Bulandshahr, India</td><td>pm25</td><td>6.2</td><td>28</td><td>67</td><td>4.6</td><td>7.4</td><td>734</td><td>40</td><td>60</td><td>7.1</td><td>27.8</td><td>3.9</td><td>10.2</td><td>2025-07-30 15:00:00</td></tr><tr><td>62</td><td>13737</td><td>Royapuram, Chennai, Chennai, India</td><td>pm10</td><td>5.1</td><td>25</td><td>57</td><td>14.4</td><td>8.3</td><td>733</td><td>62</td><td>44</td><td>2.2</td><td>28.3</td><td>2.9</td><td>10.2</td><td>2025-07-30 15:00:00</td></tr><tr><td>168</td><td>13813</td><td>Darshan Nagar, Chhapra, India</td><td>pm25</td><td>1.1</td><td>28</td><td>77</td><td>43.9</td><td>15.5</td><td>997</td><td>92</td><td>168</td><td>2.7</td><td>27.8</td><td>1.2</td><td>9.2</td><td>2025-07-30 15:00:00</td></tr><tr><td>59</td><td>8192</td><td>Maninagar, Ahmedabad, India</td><td>pm25</td><td>5.6</td><td>23</td><td>95.000</td><td>6.7</td><td>7.8</td><td>1001</td><td>56</td><td>59</td><td>13.3</td><td>28</td><td>0.54</td><td>7.7</td><td>2025-08-01 15:00:00</td></tr><tr><td>59</td><td>8192</td><td>Maninagar, Ahmedabad, India</td><td>pm25</td><td>5.6</td><td>23</td><td>95.000</td><td>6.7</td><td>7.8</td><td>1001</td><td>56</td><td>59</td><td>13.3</td><td>28</td><td>0.54</td><td>7.7</td><td>2025-08-01 15:00:00</td></tr><tr><td>88</td><td>11321</td><td>Golden Temple, Amritsar, India</td><td>pm25</td><td>3.5</td><td>26</td><td>65.39</td><td>5.4</td><td>12.7</td><td>999.5</td><td>54</td><td>88</td><td>3.9</td><td>20.88</td><td>1.09</td><td>9.2</td><td>2025-07-30 15:00:00</td></tr><tr><td>59</td><td>8192</td><td>Maninagar, Ahmedabad, India</td><td>pm25</td><td>5.6</td><td>23</td><td>95.000</td><td>6.7</td><td>7.8</td><td>1001</td><td>56</td><td>59</td><td>13.3</td><td>28</td><td>0.54</td><td>7.7</td><td>2025-08-01 15:00:00</td></tr><tr><td>59</td><td>8192</td><td>Maninagar, Ahmedabad, India</td><td>pm25</td><td>5.6</td><td>23</td><td>95.000</td><td>6.7</td><td>7.8</td><td>1001</td><td>56</td><td>59</td><td>13.3</td><td>28</td><td>0.54</td><td>7.7</td><td>2025-08-01 15:00:00</td></tr><tr><td>59</td><td>8192</td><td>Maninagar, Ahmedabad, India</td><td>pm25</td><td>5.6</td><td>23</td><td>99.999</td><td>6.7</td><td>7.8</td><td>1001</td><td>56</td><td>59</td><td>13.3</td><td>29</td><td>0.54</td><td>7.7</td><td>2025-07-30 15:00:00</td></tr></tbody></table></div>"
      ]
     },
     "metadata": {
      "application/vnd.databricks.v1+output": {
       "addedWidgets": {},
       "aggData": [],
       "aggError": "",
       "aggOverflow": false,
       "aggSchema": [],
       "aggSeriesLimitReached": false,
       "aggType": "",
       "arguments": {},
       "columnCustomDisplayInfos": {},
       "data": [
        [
         "51",
         "11847",
         "SIDCO Kurichi, Coimbatore, India",
         "pm10",
         "2.7",
         "20",
         "52.47",
         "2.6",
         "2.6",
         "800.3",
         "51",
         "50",
         "9.1",
         "34",
         "5.41",
         "12.3",
         "2025-07-30 15:00:00"
        ],
        [
         "68",
         "10111",
         "Major Dhyan Chand National Stadium, Delhi, Delhi, India",
         "pm25",
         "3.2",
         "28",
         "62.75",
         "10.4",
         "4",
         "973.05",
         "37",
         "68",
         "5.2",
         "31.45",
         "1",
         "10.2",
         "2025-07-30 15:00:00"
        ],
        [
         "70",
         "11313",
         "Bhopal Chauraha, Dewas, India",
         "pm25",
         "2.9",
         "23",
         "36",
         "13.9",
         "10.1",
         "1004",
         "66",
         "70",
         "26.3",
         "30.3",
         "1",
         "9.7",
         "2025-07-30 15:00:00"
        ],
        [
         "41",
         "14152",
         "Mendonsa Colony, Dindigul, India",
         "pm25",
         "0.5",
         "20",
         "46.44",
         "0.1",
         "3.3",
         "969.02",
         "23",
         "41",
         "8.6",
         "38",
         "3.25",
         "11.8",
         "2025-07-30 15:00:00"
        ],
        [
         "94",
         "13731",
         "IIPHG Lekawada, Gandhinagar, India",
         "pm25",
         "4.4",
         "23",
         "87.24",
         "3",
         "14.2",
         "1002.7",
         "70",
         "94",
         "4.9",
         "29",
         "0.58",
         "7.7",
         "2025-07-30 15:00:00"
        ],
        [
         "35",
         "14697",
         "Zero Point GICI, Gangtok, India",
         "pm25",
         "1.9",
         "17",
         "97.16",
         "1.1",
         "18.2",
         "616.48",
         "2",
         "35",
         "0.3",
         "20",
         "0.33",
         "7.2",
         "2025-07-30 15:00:00"
        ],
        [
         "55",
         "11899",
         "Sanjay Nagar, Ghaziabad, India",
         "pm25",
         "5.7",
         "28",
         "57",
         "11.4",
         "14.4",
         "738",
         "46",
         "55",
         "7.7",
         "29.1",
         "2.1",
         "10.2",
         "2025-07-30 15:00:00"
        ],
        [
         "96",
         "11843",
         "GIDC, Ankleshwar, India",
         "pm25",
         "3.8",
         "25",
         "79.79",
         "10.1",
         "28.5",
         "1000",
         "52",
         "96",
         "20.3",
         "31.84",
         "3.33",
         "8.7",
         "2025-07-30 15:00:00"
        ],
        [
         "70",
         "13874",
         "New DM Office, Arrah, India",
         "pm25",
         "3.1",
         "27",
         "88",
         "2.5",
         "3.2",
         "997",
         "41",
         "70",
         "2.9",
         "26.674999999999997",
         "0.55",
         "9.2",
         "2025-07-30 14:00:00"
        ],
        [
         "32",
         "14700",
         "Gurdeo Nagar, Aurangabad, India",
         "pm25",
         "0.6",
         "27",
         "79",
         "2.9",
         "3.8",
         "997",
         "16",
         "32",
         "3.5",
         "27.4",
         "1.5",
         "9.2",
         "2025-07-30 15:00:00"
        ],
        [
         "24",
         "14141",
         "Sardar Patel Inter College, Baghpat, India",
         "pm25",
         "4.6",
         "28",
         "68",
         "11.6",
         "18.9",
         "740",
         "18",
         "24",
         "7.4",
         "28.2",
         "1.9",
         "10.2",
         "2025-07-30 15:00:00"
        ],
        [
         "113",
         "11848",
         "RIICO Ind. Area III, Bhiwadi, India",
         "pm25",
         "10.3",
         "28",
         "96.74",
         "5.5",
         "10.5",
         "733.25",
         "46",
         "113",
         "3.4",
         "33.26",
         "0.24",
         "10.2",
         "2025-07-30 15:00:00"
        ],
        [
         "148",
         "13743",
         "D M Colony, Bihar Sharif, India",
         "pm25",
         "0.2",
         "28",
         "75",
         "3.4",
         "15.6",
         "997",
         "66",
         "148",
         "3.7",
         "33.4",
         "1.4",
         "9.2",
         "2025-07-30 15:00:00"
        ],
        [
         "60",
         "11302",
         "Yamunapuram, Bulandshahr, India",
         "pm25",
         "6.2",
         "28",
         "67",
         "4.6",
         "7.4",
         "734",
         "40",
         "60",
         "7.1",
         "27.8",
         "3.9",
         "10.2",
         "2025-07-30 15:00:00"
        ],
        [
         "62",
         "13737",
         "Royapuram, Chennai, Chennai, India",
         "pm10",
         "5.1",
         "25",
         "57",
         "14.4",
         "8.3",
         "733",
         "62",
         "44",
         "2.2",
         "28.3",
         "2.9",
         "10.2",
         "2025-07-30 15:00:00"
        ],
        [
         "168",
         "13813",
         "Darshan Nagar, Chhapra, India",
         "pm25",
         "1.1",
         "28",
         "77",
         "43.9",
         "15.5",
         "997",
         "92",
         "168",
         "2.7",
         "27.8",
         "1.2",
         "9.2",
         "2025-07-30 15:00:00"
        ],
        [
         "59",
         "8192",
         "Maninagar, Ahmedabad, India",
         "pm25",
         "5.6",
         "23",
         "95.000",
         "6.7",
         "7.8",
         "1001",
         "56",
         "59",
         "13.3",
         "28",
         "0.54",
         "7.7",
         "2025-08-01 15:00:00"
        ],
        [
         "59",
         "8192",
         "Maninagar, Ahmedabad, India",
         "pm25",
         "5.6",
         "23",
         "95.000",
         "6.7",
         "7.8",
         "1001",
         "56",
         "59",
         "13.3",
         "28",
         "0.54",
         "7.7",
         "2025-08-01 15:00:00"
        ],
        [
         "88",
         "11321",
         "Golden Temple, Amritsar, India",
         "pm25",
         "3.5",
         "26",
         "65.39",
         "5.4",
         "12.7",
         "999.5",
         "54",
         "88",
         "3.9",
         "20.88",
         "1.09",
         "9.2",
         "2025-07-30 15:00:00"
        ],
        [
         "59",
         "8192",
         "Maninagar, Ahmedabad, India",
         "pm25",
         "5.6",
         "23",
         "95.000",
         "6.7",
         "7.8",
         "1001",
         "56",
         "59",
         "13.3",
         "28",
         "0.54",
         "7.7",
         "2025-08-01 15:00:00"
        ],
        [
         "59",
         "8192",
         "Maninagar, Ahmedabad, India",
         "pm25",
         "5.6",
         "23",
         "95.000",
         "6.7",
         "7.8",
         "1001",
         "56",
         "59",
         "13.3",
         "28",
         "0.54",
         "7.7",
         "2025-08-01 15:00:00"
        ],
        [
         "59",
         "8192",
         "Maninagar, Ahmedabad, India",
         "pm25",
         "5.6",
         "23",
         "99.999",
         "6.7",
         "7.8",
         "1001",
         "56",
         "59",
         "13.3",
         "29",
         "0.54",
         "7.7",
         "2025-07-30 15:00:00"
        ]
       ],
       "datasetInfos": [
        {
         "name": "_sqldf",
         "schema": {
          "fields": [
           {
            "metadata": {},
            "name": "aqi",
            "nullable": true,
            "type": "string"
           },
           {
            "metadata": {},
            "name": "idx",
            "nullable": true,
            "type": "string"
           },
           {
            "metadata": {},
            "name": "city_name",
            "nullable": true,
            "type": "string"
           },
           {
            "metadata": {},
            "name": "dominant_pollutant",
            "nullable": true,
            "type": "string"
           },
           {
            "metadata": {},
            "name": "co",
            "nullable": true,
            "type": "string"
           },
           {
            "metadata": {},
            "name": "dew",
            "nullable": true,
            "type": "string"
           },
           {
            "metadata": {},
            "name": "humidity",
            "nullable": true,
            "type": "string"
           },
           {
            "metadata": {},
            "name": "no2",
            "nullable": true,
            "type": "string"
           },
           {
            "metadata": {},
            "name": "o3",
            "nullable": true,
            "type": "string"
           },
           {
            "metadata": {},
            "name": "pressure",
            "nullable": true,
            "type": "string"
           },
           {
            "metadata": {},
            "name": "pm10",
            "nullable": true,
            "type": "string"
           },
           {
            "metadata": {},
            "name": "pm25",
            "nullable": true,
            "type": "string"
           },
           {
            "metadata": {},
            "name": "so2",
            "nullable": true,
            "type": "string"
           },
           {
            "metadata": {},
            "name": "temperature",
            "nullable": true,
            "type": "string"
           },
           {
            "metadata": {},
            "name": "wind_speed",
            "nullable": true,
            "type": "string"
           },
           {
            "metadata": {},
            "name": "wind_gust",
            "nullable": true,
            "type": "string"
           },
           {
            "metadata": {},
            "name": "time_s",
            "nullable": true,
            "type": "string"
           }
          ],
          "type": "struct"
         },
         "tableIdentifier": null,
         "typeStr": "pyspark.sql.dataframe.DataFrame"
        }
       ],
       "dbfsResultPath": null,
       "isJsonSchema": true,
       "metadata": {
        "createTempViewForImplicitDf": true,
        "dataframeName": "_sqldf",
        "executionCount": 3
       },
       "overflow": false,
       "plotOptions": {
        "customPlotOptions": {},
        "displayType": "table",
        "pivotAggregation": null,
        "pivotColumns": null,
        "xColumns": null,
        "yColumns": null
       },
       "removedWidgets": [],
       "schema": [
        {
         "metadata": "{}",
         "name": "aqi",
         "type": "\"string\""
        },
        {
         "metadata": "{}",
         "name": "idx",
         "type": "\"string\""
        },
        {
         "metadata": "{}",
         "name": "city_name",
         "type": "\"string\""
        },
        {
         "metadata": "{}",
         "name": "dominant_pollutant",
         "type": "\"string\""
        },
        {
         "metadata": "{}",
         "name": "co",
         "type": "\"string\""
        },
        {
         "metadata": "{}",
         "name": "dew",
         "type": "\"string\""
        },
        {
         "metadata": "{}",
         "name": "humidity",
         "type": "\"string\""
        },
        {
         "metadata": "{}",
         "name": "no2",
         "type": "\"string\""
        },
        {
         "metadata": "{}",
         "name": "o3",
         "type": "\"string\""
        },
        {
         "metadata": "{}",
         "name": "pressure",
         "type": "\"string\""
        },
        {
         "metadata": "{}",
         "name": "pm10",
         "type": "\"string\""
        },
        {
         "metadata": "{}",
         "name": "pm25",
         "type": "\"string\""
        },
        {
         "metadata": "{}",
         "name": "so2",
         "type": "\"string\""
        },
        {
         "metadata": "{}",
         "name": "temperature",
         "type": "\"string\""
        },
        {
         "metadata": "{}",
         "name": "wind_speed",
         "type": "\"string\""
        },
        {
         "metadata": "{}",
         "name": "wind_gust",
         "type": "\"string\""
        },
        {
         "metadata": "{}",
         "name": "time_s",
         "type": "\"string\""
        }
       ],
       "type": "table"
      }
     },
     "output_type": "display_data"
    }
   ],
   "source": [
    "%sql\n",
    "select * from kafka_azure_databricks.bronze.weathertable"
   ]
  },
  {
   "cell_type": "code",
   "execution_count": 0,
   "metadata": {
    "application/vnd.databricks.v1+cell": {
     "cellMetadata": {},
     "inputWidgets": {},
     "nuid": "f2a49a34-8c3f-49c0-a729-a4d02c0ad2d4",
     "showTitle": false,
     "tableResultSettingsMap": {},
     "title": ""
    }
   },
   "outputs": [],
   "source": []
  }
 ],
 "metadata": {
  "application/vnd.databricks.v1+notebook": {
   "computePreferences": null,
   "dashboards": [
    {
     "elements": [],
     "globalVars": {},
     "guid": "",
     "layoutOption": {
      "grid": true,
      "stack": true
     },
     "nuid": "9e0d2c7b-1538-4e0d-bd13-852d110d9d1b",
     "origId": 5302072402233776,
     "title": "Untitled",
     "version": "DashboardViewV1",
     "width": 1024
    }
   ],
   "environmentMetadata": {
    "base_environment": "",
    "environment_version": "2"
   },
   "inputWidgetPreferences": null,
   "language": "python",
   "notebookMetadata": {
    "mostRecentlyExecutedCommandWithImplicitDF": {
     "commandId": 6387683332039875,
     "dataframes": [
      "_sqldf"
     ]
    },
    "pythonIndentUnit": 4
   },
   "notebookName": "Kafka_Ingestion",
   "widgets": {}
  },
  "language_info": {
   "name": "python"
  }
 },
 "nbformat": 4,
 "nbformat_minor": 0
}

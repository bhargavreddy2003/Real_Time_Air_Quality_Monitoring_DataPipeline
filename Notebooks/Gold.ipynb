{
 "cells": [
  {
   "cell_type": "code",
   "execution_count": 0,
   "metadata": {
    "application/vnd.databricks.v1+cell": {
     "cellMetadata": {
      "byteLimit": 2048000,
      "rowLimit": 10000
     },
     "inputWidgets": {},
     "nuid": "177bbd15-bc5f-4ac4-a945-9b816df3cedf",
     "showTitle": false,
     "tableResultSettingsMap": {},
     "title": ""
    }
   },
   "outputs": [],
   "source": [
    "from pyspark.sql.functions import *\n",
    "from pyspark.sql.types import *"
   ]
  },
  {
   "cell_type": "code",
   "execution_count": 0,
   "metadata": {
    "application/vnd.databricks.v1+cell": {
     "cellMetadata": {
      "byteLimit": 2048000,
      "implicitDf": true,
      "rowLimit": 10000
     },
     "inputWidgets": {},
     "nuid": "85469d87-b49e-4710-b50a-244b150b40c6",
     "showTitle": false,
     "tableResultSettingsMap": {},
     "title": ""
    }
   },
   "outputs": [
    {
     "output_type": "display_data",
     "data": {
      "text/html": [
       "<style scoped>\n",
       "  .table-result-container {\n",
       "    max-height: 300px;\n",
       "    overflow: auto;\n",
       "  }\n",
       "  table, th, td {\n",
       "    border: 1px solid black;\n",
       "    border-collapse: collapse;\n",
       "  }\n",
       "  th, td {\n",
       "    padding: 5px;\n",
       "  }\n",
       "  th {\n",
       "    text-align: left;\n",
       "  }\n",
       "</style><div class='table-result-container'><table class='table-result'><thead style='background-color: white'><tr><th>aqi</th><th>idx</th><th>city_name</th><th>dominant_pollutant</th><th>co</th><th>dew</th><th>humidity</th><th>no2</th><th>o3</th><th>pressure</th><th>pm10</th><th>pm25</th><th>so2</th><th>temperature</th><th>wind_speed</th><th>wind_gust</th><th>time_s</th><th>Modified_Date</th></tr></thead><tbody><tr><td>59</td><td>8192</td><td>Maninagar, Ahmedabad, India</td><td>pm25</td><td>5.6</td><td>23.0</td><td>99.999</td><td>6.7</td><td>7.8</td><td>1001.0</td><td>56.0</td><td>59.0</td><td>13.3</td><td>29.0</td><td>0.54</td><td>7.7</td><td>2025-07-30T15:00:00Z</td><td>2025-08-02T17:42:27.1Z</td></tr><tr><td>68</td><td>10111</td><td>Major Dhyan Chand National Stadium, Delhi, Delhi, India</td><td>pm25</td><td>3.2</td><td>28.0</td><td>62.75</td><td>10.4</td><td>4.0</td><td>973.05</td><td>37.0</td><td>68.0</td><td>5.2</td><td>31.45</td><td>1.0</td><td>10.2</td><td>2025-07-30T15:00:00Z</td><td>2025-08-02T17:42:27.1Z</td></tr><tr><td>60</td><td>11302</td><td>Yamunapuram, Bulandshahr, India</td><td>pm25</td><td>6.2</td><td>28.0</td><td>67.0</td><td>4.6</td><td>7.4</td><td>734.0</td><td>40.0</td><td>60.0</td><td>7.1</td><td>27.8</td><td>3.9</td><td>10.2</td><td>2025-07-30T15:00:00Z</td><td>2025-08-02T17:42:27.1Z</td></tr><tr><td>70</td><td>11313</td><td>Bhopal Chauraha, Dewas, India</td><td>pm25</td><td>2.9</td><td>23.0</td><td>36.0</td><td>13.9</td><td>10.1</td><td>1004.0</td><td>66.0</td><td>70.0</td><td>26.3</td><td>30.3</td><td>1.0</td><td>9.7</td><td>2025-07-30T15:00:00Z</td><td>2025-08-02T17:42:27.1Z</td></tr><tr><td>88</td><td>11321</td><td>Golden Temple, Amritsar, India</td><td>pm25</td><td>3.5</td><td>26.0</td><td>65.39</td><td>5.4</td><td>12.7</td><td>999.5</td><td>54.0</td><td>88.0</td><td>3.9</td><td>20.88</td><td>1.09</td><td>9.2</td><td>2025-07-30T15:00:00Z</td><td>2025-08-02T17:42:27.1Z</td></tr><tr><td>96</td><td>11843</td><td>GIDC, Ankleshwar, India</td><td>pm25</td><td>3.8</td><td>25.0</td><td>79.79</td><td>10.1</td><td>28.5</td><td>1000.0</td><td>52.0</td><td>96.0</td><td>20.3</td><td>31.84</td><td>3.33</td><td>8.7</td><td>2025-07-30T15:00:00Z</td><td>2025-08-02T17:42:27.1Z</td></tr><tr><td>51</td><td>11847</td><td>SIDCO Kurichi, Coimbatore, India</td><td>pm10</td><td>2.7</td><td>20.0</td><td>52.47</td><td>2.6</td><td>2.6</td><td>800.3</td><td>51.0</td><td>50.0</td><td>9.1</td><td>34.0</td><td>5.41</td><td>12.3</td><td>2025-07-30T15:00:00Z</td><td>2025-08-02T17:42:27.1Z</td></tr><tr><td>113</td><td>11848</td><td>RIICO Ind. Area III, Bhiwadi, India</td><td>pm25</td><td>10.3</td><td>28.0</td><td>96.74</td><td>5.5</td><td>10.5</td><td>733.25</td><td>46.0</td><td>113.0</td><td>3.4</td><td>33.26</td><td>0.24</td><td>10.2</td><td>2025-07-30T15:00:00Z</td><td>2025-08-02T17:42:27.1Z</td></tr><tr><td>55</td><td>11899</td><td>Sanjay Nagar, Ghaziabad, India</td><td>pm25</td><td>5.7</td><td>28.0</td><td>57.0</td><td>11.4</td><td>14.4</td><td>738.0</td><td>46.0</td><td>55.0</td><td>7.7</td><td>29.1</td><td>2.1</td><td>10.2</td><td>2025-07-30T15:00:00Z</td><td>2025-08-02T17:42:27.1Z</td></tr><tr><td>94</td><td>13731</td><td>IIPHG Lekawada, Gandhinagar, India</td><td>pm25</td><td>4.4</td><td>23.0</td><td>87.24</td><td>3.0</td><td>14.2</td><td>1002.7</td><td>70.0</td><td>94.0</td><td>4.9</td><td>29.0</td><td>0.58</td><td>7.7</td><td>2025-07-30T15:00:00Z</td><td>2025-08-02T17:42:27.1Z</td></tr><tr><td>62</td><td>13737</td><td>Royapuram, Chennai, Chennai, India</td><td>pm10</td><td>5.1</td><td>25.0</td><td>57.0</td><td>14.4</td><td>8.3</td><td>733.0</td><td>62.0</td><td>44.0</td><td>2.2</td><td>28.3</td><td>2.9</td><td>10.2</td><td>2025-07-30T15:00:00Z</td><td>2025-08-02T17:42:27.1Z</td></tr><tr><td>148</td><td>13743</td><td>D M Colony, Bihar Sharif, India</td><td>pm25</td><td>0.2</td><td>28.0</td><td>75.0</td><td>3.4</td><td>15.6</td><td>997.0</td><td>66.0</td><td>148.0</td><td>3.7</td><td>33.4</td><td>1.4</td><td>9.2</td><td>2025-07-30T15:00:00Z</td><td>2025-08-02T17:42:27.1Z</td></tr><tr><td>168</td><td>13813</td><td>Darshan Nagar, Chhapra, India</td><td>pm25</td><td>1.1</td><td>28.0</td><td>77.0</td><td>43.9</td><td>15.5</td><td>997.0</td><td>92.0</td><td>168.0</td><td>2.7</td><td>27.8</td><td>1.2</td><td>9.2</td><td>2025-07-30T15:00:00Z</td><td>2025-08-02T17:42:27.1Z</td></tr><tr><td>70</td><td>13874</td><td>New DM Office, Arrah, India</td><td>pm25</td><td>3.1</td><td>27.0</td><td>88.0</td><td>2.5</td><td>3.2</td><td>997.0</td><td>41.0</td><td>70.0</td><td>2.9</td><td>26.674999999999997</td><td>0.55</td><td>9.2</td><td>2025-07-30T14:00:00Z</td><td>2025-08-02T17:42:27.1Z</td></tr><tr><td>24</td><td>14141</td><td>Sardar Patel Inter College, Baghpat, India</td><td>pm25</td><td>4.6</td><td>28.0</td><td>68.0</td><td>11.6</td><td>18.9</td><td>740.0</td><td>18.0</td><td>24.0</td><td>7.4</td><td>28.2</td><td>1.9</td><td>10.2</td><td>2025-07-30T15:00:00Z</td><td>2025-08-02T17:42:27.1Z</td></tr><tr><td>41</td><td>14152</td><td>Mendonsa Colony, Dindigul, India</td><td>pm25</td><td>0.5</td><td>20.0</td><td>46.44</td><td>0.1</td><td>3.3</td><td>969.02</td><td>23.0</td><td>41.0</td><td>8.6</td><td>38.0</td><td>3.25</td><td>11.8</td><td>2025-07-30T15:00:00Z</td><td>2025-08-02T17:42:27.1Z</td></tr><tr><td>35</td><td>14697</td><td>Zero Point GICI, Gangtok, India</td><td>pm25</td><td>1.9</td><td>17.0</td><td>97.16</td><td>1.1</td><td>18.2</td><td>616.48</td><td>2.0</td><td>35.0</td><td>0.3</td><td>20.0</td><td>0.33</td><td>7.2</td><td>2025-07-30T15:00:00Z</td><td>2025-08-02T17:42:27.1Z</td></tr><tr><td>32</td><td>14700</td><td>Gurdeo Nagar, Aurangabad, India</td><td>pm25</td><td>0.6</td><td>27.0</td><td>79.0</td><td>2.9</td><td>3.8</td><td>997.0</td><td>16.0</td><td>32.0</td><td>3.5</td><td>27.4</td><td>1.5</td><td>9.2</td><td>2025-07-30T15:00:00Z</td><td>2025-08-02T17:42:27.1Z</td></tr></tbody></table></div>"
      ]
     },
     "metadata": {
      "application/vnd.databricks.v1+output": {
       "addedWidgets": {},
       "aggData": [],
       "aggError": "",
       "aggOverflow": false,
       "aggSchema": [],
       "aggSeriesLimitReached": false,
       "aggType": "",
       "arguments": {},
       "columnCustomDisplayInfos": {},
       "data": [
        [
         59,
         8192,
         "Maninagar, Ahmedabad, India",
         "pm25",
         5.6,
         23.0,
         99.999,
         6.7,
         7.8,
         1001.0,
         56.0,
         59.0,
         13.3,
         29.0,
         0.54,
         7.7,
         "2025-07-30T15:00:00Z",
         "2025-08-02T17:42:27.1Z"
        ],
        [
         68,
         10111,
         "Major Dhyan Chand National Stadium, Delhi, Delhi, India",
         "pm25",
         3.2,
         28.0,
         62.75,
         10.4,
         4.0,
         973.05,
         37.0,
         68.0,
         5.2,
         31.45,
         1.0,
         10.2,
         "2025-07-30T15:00:00Z",
         "2025-08-02T17:42:27.1Z"
        ],
        [
         60,
         11302,
         "Yamunapuram, Bulandshahr, India",
         "pm25",
         6.2,
         28.0,
         67.0,
         4.6,
         7.4,
         734.0,
         40.0,
         60.0,
         7.1,
         27.8,
         3.9,
         10.2,
         "2025-07-30T15:00:00Z",
         "2025-08-02T17:42:27.1Z"
        ],
        [
         70,
         11313,
         "Bhopal Chauraha, Dewas, India",
         "pm25",
         2.9,
         23.0,
         36.0,
         13.9,
         10.1,
         1004.0,
         66.0,
         70.0,
         26.3,
         30.3,
         1.0,
         9.7,
         "2025-07-30T15:00:00Z",
         "2025-08-02T17:42:27.1Z"
        ],
        [
         88,
         11321,
         "Golden Temple, Amritsar, India",
         "pm25",
         3.5,
         26.0,
         65.39,
         5.4,
         12.7,
         999.5,
         54.0,
         88.0,
         3.9,
         20.88,
         1.09,
         9.2,
         "2025-07-30T15:00:00Z",
         "2025-08-02T17:42:27.1Z"
        ],
        [
         96,
         11843,
         "GIDC, Ankleshwar, India",
         "pm25",
         3.8,
         25.0,
         79.79,
         10.1,
         28.5,
         1000.0,
         52.0,
         96.0,
         20.3,
         31.84,
         3.33,
         8.7,
         "2025-07-30T15:00:00Z",
         "2025-08-02T17:42:27.1Z"
        ],
        [
         51,
         11847,
         "SIDCO Kurichi, Coimbatore, India",
         "pm10",
         2.7,
         20.0,
         52.47,
         2.6,
         2.6,
         800.3,
         51.0,
         50.0,
         9.1,
         34.0,
         5.41,
         12.3,
         "2025-07-30T15:00:00Z",
         "2025-08-02T17:42:27.1Z"
        ],
        [
         113,
         11848,
         "RIICO Ind. Area III, Bhiwadi, India",
         "pm25",
         10.3,
         28.0,
         96.74,
         5.5,
         10.5,
         733.25,
         46.0,
         113.0,
         3.4,
         33.26,
         0.24,
         10.2,
         "2025-07-30T15:00:00Z",
         "2025-08-02T17:42:27.1Z"
        ],
        [
         55,
         11899,
         "Sanjay Nagar, Ghaziabad, India",
         "pm25",
         5.7,
         28.0,
         57.0,
         11.4,
         14.4,
         738.0,
         46.0,
         55.0,
         7.7,
         29.1,
         2.1,
         10.2,
         "2025-07-30T15:00:00Z",
         "2025-08-02T17:42:27.1Z"
        ],
        [
         94,
         13731,
         "IIPHG Lekawada, Gandhinagar, India",
         "pm25",
         4.4,
         23.0,
         87.24,
         3.0,
         14.2,
         1002.7,
         70.0,
         94.0,
         4.9,
         29.0,
         0.58,
         7.7,
         "2025-07-30T15:00:00Z",
         "2025-08-02T17:42:27.1Z"
        ],
        [
         62,
         13737,
         "Royapuram, Chennai, Chennai, India",
         "pm10",
         5.1,
         25.0,
         57.0,
         14.4,
         8.3,
         733.0,
         62.0,
         44.0,
         2.2,
         28.3,
         2.9,
         10.2,
         "2025-07-30T15:00:00Z",
         "2025-08-02T17:42:27.1Z"
        ],
        [
         148,
         13743,
         "D M Colony, Bihar Sharif, India",
         "pm25",
         0.2,
         28.0,
         75.0,
         3.4,
         15.6,
         997.0,
         66.0,
         148.0,
         3.7,
         33.4,
         1.4,
         9.2,
         "2025-07-30T15:00:00Z",
         "2025-08-02T17:42:27.1Z"
        ],
        [
         168,
         13813,
         "Darshan Nagar, Chhapra, India",
         "pm25",
         1.1,
         28.0,
         77.0,
         43.9,
         15.5,
         997.0,
         92.0,
         168.0,
         2.7,
         27.8,
         1.2,
         9.2,
         "2025-07-30T15:00:00Z",
         "2025-08-02T17:42:27.1Z"
        ],
        [
         70,
         13874,
         "New DM Office, Arrah, India",
         "pm25",
         3.1,
         27.0,
         88.0,
         2.5,
         3.2,
         997.0,
         41.0,
         70.0,
         2.9,
         26.674999999999997,
         0.55,
         9.2,
         "2025-07-30T14:00:00Z",
         "2025-08-02T17:42:27.1Z"
        ],
        [
         24,
         14141,
         "Sardar Patel Inter College, Baghpat, India",
         "pm25",
         4.6,
         28.0,
         68.0,
         11.6,
         18.9,
         740.0,
         18.0,
         24.0,
         7.4,
         28.2,
         1.9,
         10.2,
         "2025-07-30T15:00:00Z",
         "2025-08-02T17:42:27.1Z"
        ],
        [
         41,
         14152,
         "Mendonsa Colony, Dindigul, India",
         "pm25",
         0.5,
         20.0,
         46.44,
         0.1,
         3.3,
         969.02,
         23.0,
         41.0,
         8.6,
         38.0,
         3.25,
         11.8,
         "2025-07-30T15:00:00Z",
         "2025-08-02T17:42:27.1Z"
        ],
        [
         35,
         14697,
         "Zero Point GICI, Gangtok, India",
         "pm25",
         1.9,
         17.0,
         97.16,
         1.1,
         18.2,
         616.48,
         2.0,
         35.0,
         0.3,
         20.0,
         0.33,
         7.2,
         "2025-07-30T15:00:00Z",
         "2025-08-02T17:42:27.1Z"
        ],
        [
         32,
         14700,
         "Gurdeo Nagar, Aurangabad, India",
         "pm25",
         0.6,
         27.0,
         79.0,
         2.9,
         3.8,
         997.0,
         16.0,
         32.0,
         3.5,
         27.4,
         1.5,
         9.2,
         "2025-07-30T15:00:00Z",
         "2025-08-02T17:42:27.1Z"
        ]
       ],
       "datasetInfos": [
        {
         "name": "_sqldf",
         "schema": {
          "fields": [
           {
            "metadata": {},
            "name": "aqi",
            "nullable": true,
            "type": "integer"
           },
           {
            "metadata": {},
            "name": "idx",
            "nullable": true,
            "type": "integer"
           },
           {
            "metadata": {},
            "name": "city_name",
            "nullable": true,
            "type": "string"
           },
           {
            "metadata": {},
            "name": "dominant_pollutant",
            "nullable": true,
            "type": "string"
           },
           {
            "metadata": {},
            "name": "co",
            "nullable": true,
            "type": "double"
           },
           {
            "metadata": {},
            "name": "dew",
            "nullable": true,
            "type": "double"
           },
           {
            "metadata": {},
            "name": "humidity",
            "nullable": true,
            "type": "double"
           },
           {
            "metadata": {},
            "name": "no2",
            "nullable": true,
            "type": "double"
           },
           {
            "metadata": {},
            "name": "o3",
            "nullable": true,
            "type": "double"
           },
           {
            "metadata": {},
            "name": "pressure",
            "nullable": true,
            "type": "double"
           },
           {
            "metadata": {},
            "name": "pm10",
            "nullable": true,
            "type": "double"
           },
           {
            "metadata": {},
            "name": "pm25",
            "nullable": true,
            "type": "double"
           },
           {
            "metadata": {},
            "name": "so2",
            "nullable": true,
            "type": "double"
           },
           {
            "metadata": {},
            "name": "temperature",
            "nullable": true,
            "type": "double"
           },
           {
            "metadata": {},
            "name": "wind_speed",
            "nullable": true,
            "type": "double"
           },
           {
            "metadata": {},
            "name": "wind_gust",
            "nullable": true,
            "type": "double"
           },
           {
            "metadata": {},
            "name": "time_s",
            "nullable": true,
            "type": "timestamp"
           },
           {
            "metadata": {},
            "name": "Modified_Date",
            "nullable": true,
            "type": "timestamp"
           }
          ],
          "type": "struct"
         },
         "tableIdentifier": null,
         "typeStr": "pyspark.sql.dataframe.DataFrame"
        }
       ],
       "dbfsResultPath": null,
       "isJsonSchema": true,
       "metadata": {
        "createTempViewForImplicitDf": true,
        "dataframeName": "_sqldf",
        "executionCount": 72
       },
       "overflow": false,
       "plotOptions": {
        "customPlotOptions": {},
        "displayType": "table",
        "pivotAggregation": null,
        "pivotColumns": null,
        "xColumns": null,
        "yColumns": null
       },
       "removedWidgets": [],
       "schema": [
        {
         "metadata": "{}",
         "name": "aqi",
         "type": "\"integer\""
        },
        {
         "metadata": "{}",
         "name": "idx",
         "type": "\"integer\""
        },
        {
         "metadata": "{}",
         "name": "city_name",
         "type": "\"string\""
        },
        {
         "metadata": "{}",
         "name": "dominant_pollutant",
         "type": "\"string\""
        },
        {
         "metadata": "{}",
         "name": "co",
         "type": "\"double\""
        },
        {
         "metadata": "{}",
         "name": "dew",
         "type": "\"double\""
        },
        {
         "metadata": "{}",
         "name": "humidity",
         "type": "\"double\""
        },
        {
         "metadata": "{}",
         "name": "no2",
         "type": "\"double\""
        },
        {
         "metadata": "{}",
         "name": "o3",
         "type": "\"double\""
        },
        {
         "metadata": "{}",
         "name": "pressure",
         "type": "\"double\""
        },
        {
         "metadata": "{}",
         "name": "pm10",
         "type": "\"double\""
        },
        {
         "metadata": "{}",
         "name": "pm25",
         "type": "\"double\""
        },
        {
         "metadata": "{}",
         "name": "so2",
         "type": "\"double\""
        },
        {
         "metadata": "{}",
         "name": "temperature",
         "type": "\"double\""
        },
        {
         "metadata": "{}",
         "name": "wind_speed",
         "type": "\"double\""
        },
        {
         "metadata": "{}",
         "name": "wind_gust",
         "type": "\"double\""
        },
        {
         "metadata": "{}",
         "name": "time_s",
         "type": "\"timestamp\""
        },
        {
         "metadata": "{}",
         "name": "Modified_Date",
         "type": "\"timestamp\""
        }
       ],
       "type": "table"
      }
     },
     "output_type": "display_data"
    }
   ],
   "source": [
    "%sql\n",
    "select * from kafka_azure_databricks.silver.silver_airquality"
   ]
  },
  {
   "cell_type": "markdown",
   "metadata": {
    "application/vnd.databricks.v1+cell": {
     "cellMetadata": {
      "byteLimit": 2048000,
      "rowLimit": 10000
     },
     "inputWidgets": {},
     "nuid": "a3982591-c8c0-4cfe-8ac2-67f495210bd9",
     "showTitle": false,
     "tableResultSettingsMap": {},
     "title": ""
    }
   },
   "source": [
    "#### Slowly Changing Dimension -Type 2 ####"
   ]
  },
  {
   "cell_type": "code",
   "execution_count": 0,
   "metadata": {
    "application/vnd.databricks.v1+cell": {
     "cellMetadata": {
      "byteLimit": 2048000,
      "rowLimit": 10000
     },
     "inputWidgets": {},
     "nuid": "2e28f574-f987-49d0-b1fd-50cfc0943397",
     "showTitle": false,
     "tableResultSettingsMap": {},
     "title": ""
    }
   },
   "outputs": [],
   "source": [
    "#catalog\n",
    "catalog='kafka_azure_databricks'\n",
    "\n",
    "#key columns List\n",
    "key_cols = \"idx\"\n",
    "\n",
    "\n",
    "# CDC Column\n",
    "cdc_col = \"Modified_Date\"\n",
    "# Backdated Refresh\n",
    "backdated_refresh = \"\"\n",
    "# Source Object\n",
    "source_object = \"silver_airquality\"\n",
    "# Source Schema\n",
    "source_schema = \"silver\"\n",
    "# Target Schema \n",
    "target_schema = \"gold\"\n",
    "# Target Object \n",
    "target_object = \"gold_AirQuality\"\n",
    "\n",
    "# Surrogate Key\n",
    "surrogate_key = \"AieQualityKey\"\n"
   ]
  },
  {
   "cell_type": "code",
   "execution_count": 0,
   "metadata": {
    "application/vnd.databricks.v1+cell": {
     "cellMetadata": {
      "byteLimit": 2048000,
      "rowLimit": 10000
     },
     "inputWidgets": {},
     "nuid": "5a1865ba-dd3e-46b4-9f4f-18c84b3ecd51",
     "showTitle": false,
     "tableResultSettingsMap": {},
     "title": ""
    }
   },
   "outputs": [],
   "source": [
    "columns = [\n",
    "    \"aqi\", \"idx\", \"city_name\", \"dominant_pollutant\", \"co\", \"dew\", \"humidity\",\n",
    "    \"no2\", \"o3\", \"pressure\", \"pm10\", \"pm25\", \"so2\", \"temperature\", \"wind_speed\",\n",
    "    \"wind_gust\", \"time_s\", \"Modified_Date\"\n",
    "]\n"
   ]
  },
  {
   "cell_type": "markdown",
   "metadata": {
    "application/vnd.databricks.v1+cell": {
     "cellMetadata": {
      "byteLimit": 2048000,
      "rowLimit": 10000
     },
     "inputWidgets": {},
     "nuid": "8f51eefa-2a39-4054-9660-c69f773100ae",
     "showTitle": false,
     "tableResultSettingsMap": {},
     "title": ""
    }
   },
   "source": [
    "#### initial load ####"
   ]
  },
  {
   "cell_type": "code",
   "execution_count": 0,
   "metadata": {
    "application/vnd.databricks.v1+cell": {
     "cellMetadata": {
      "byteLimit": 2048000,
      "rowLimit": 10000
     },
     "inputWidgets": {},
     "nuid": "3a14542f-7621-4535-8ce0-076ce3c13a6c",
     "showTitle": false,
     "tableResultSettingsMap": {},
     "title": ""
    }
   },
   "outputs": [
    {
     "output_type": "execute_result",
     "data": {
      "text/plain": [
       "'1900-01-01 00:00:00'"
      ]
     },
     "execution_count": 75,
     "metadata": {},
     "output_type": "execute_result"
    }
   ],
   "source": [
    "if len( backdated_refresh ) == 0:\n",
    "  if spark.catalog.tableExists(f\"`{catalog}.{target_schema}.{target_object}`\"):\n",
    "    load_date=spark.read.table(f\"{catalog}.{target_schema}.{target_object}\").select(max(cdc_col)).collect()[0][0]\n",
    "  else:\n",
    "    load_date = \"1900-01-01 00:00:00\"\n",
    "else:\n",
    "  load_date = backdated_refresh\n",
    "\n",
    "load_date\n",
    "    "
   ]
  },
  {
   "cell_type": "code",
   "execution_count": 0,
   "metadata": {
    "application/vnd.databricks.v1+cell": {
     "cellMetadata": {
      "byteLimit": 2048000,
      "rowLimit": 10000
     },
     "inputWidgets": {},
     "nuid": "45ee27a6-cd2c-4412-9daf-2b098f6c0bea",
     "showTitle": false,
     "tableResultSettingsMap": {
      "0": {
       "dataGridStateBlob": "{\"version\":1,\"tableState\":{\"columnPinning\":{\"left\":[\"#row_number#\"],\"right\":[]},\"columnSizing\":{},\"columnVisibility\":{}},\"settings\":{\"columns\":{}},\"syncTimestamp\":1754158378026}",
       "filterBlob": null,
       "queryPlanFiltersBlob": null,
       "tableResultIndex": 0
      }
     },
     "title": ""
    }
   },
   "outputs": [
    {
     "output_type": "display_data",
     "data": {
      "text/html": [
       "<style scoped>\n",
       "  .table-result-container {\n",
       "    max-height: 300px;\n",
       "    overflow: auto;\n",
       "  }\n",
       "  table, th, td {\n",
       "    border: 1px solid black;\n",
       "    border-collapse: collapse;\n",
       "  }\n",
       "  th, td {\n",
       "    padding: 5px;\n",
       "  }\n",
       "  th {\n",
       "    text-align: left;\n",
       "  }\n",
       "</style><div class='table-result-container'><table class='table-result'><thead style='background-color: white'><tr><th>aqi</th><th>idx</th><th>city_name</th><th>dominant_pollutant</th><th>co</th><th>dew</th><th>humidity</th><th>no2</th><th>o3</th><th>pressure</th><th>pm10</th><th>pm25</th><th>so2</th><th>temperature</th><th>wind_speed</th><th>wind_gust</th><th>time_s</th><th>Modified_Date</th><th>hash_key</th><th>is_active</th></tr></thead><tbody><tr><td>59</td><td>8192</td><td>Maninagar, Ahmedabad, India</td><td>pm25</td><td>5.6</td><td>23.0</td><td>99.999</td><td>6.7</td><td>7.8</td><td>1001.0</td><td>56.0</td><td>59.0</td><td>13.3</td><td>29.0</td><td>0.54</td><td>7.7</td><td>2025-07-30T15:00:00Z</td><td>2025-08-02T17:42:27.1Z</td><td>17a64391d81e7d4537d13a8f3d79d4a421baf94d361307dac5f4062c71a212c1</td><td>true</td></tr><tr><td>68</td><td>10111</td><td>Major Dhyan Chand National Stadium, Delhi, Delhi, India</td><td>pm25</td><td>3.2</td><td>28.0</td><td>62.75</td><td>10.4</td><td>4.0</td><td>973.05</td><td>37.0</td><td>68.0</td><td>5.2</td><td>31.45</td><td>1.0</td><td>10.2</td><td>2025-07-30T15:00:00Z</td><td>2025-08-02T17:42:27.1Z</td><td>27503beb48b800faf272f7f375723c9b98292df14a804f6451f10f5c71e1ac33</td><td>true</td></tr><tr><td>60</td><td>11302</td><td>Yamunapuram, Bulandshahr, India</td><td>pm25</td><td>6.2</td><td>28.0</td><td>67.0</td><td>4.6</td><td>7.4</td><td>734.0</td><td>40.0</td><td>60.0</td><td>7.1</td><td>27.8</td><td>3.9</td><td>10.2</td><td>2025-07-30T15:00:00Z</td><td>2025-08-02T17:42:27.1Z</td><td>408d76ba8e71f26295aad80fbd0fce03cd1a729088220f202fabddac6ee2c24f</td><td>true</td></tr><tr><td>70</td><td>11313</td><td>Bhopal Chauraha, Dewas, India</td><td>pm25</td><td>2.9</td><td>23.0</td><td>36.0</td><td>13.9</td><td>10.1</td><td>1004.0</td><td>66.0</td><td>70.0</td><td>26.3</td><td>30.3</td><td>1.0</td><td>9.7</td><td>2025-07-30T15:00:00Z</td><td>2025-08-02T17:42:27.1Z</td><td>7e67c675fd0260348e8ef09bd2efcbdfad9f1c30f7f515d3cdcbec6374abe08d</td><td>true</td></tr><tr><td>88</td><td>11321</td><td>Golden Temple, Amritsar, India</td><td>pm25</td><td>3.5</td><td>26.0</td><td>65.39</td><td>5.4</td><td>12.7</td><td>999.5</td><td>54.0</td><td>88.0</td><td>3.9</td><td>20.88</td><td>1.09</td><td>9.2</td><td>2025-07-30T15:00:00Z</td><td>2025-08-02T17:42:27.1Z</td><td>020431533476cc40310d81a94c2037b96c52f4dd39e8d1b2d4474034cb63f6f2</td><td>true</td></tr><tr><td>96</td><td>11843</td><td>GIDC, Ankleshwar, India</td><td>pm25</td><td>3.8</td><td>25.0</td><td>79.79</td><td>10.1</td><td>28.5</td><td>1000.0</td><td>52.0</td><td>96.0</td><td>20.3</td><td>31.84</td><td>3.33</td><td>8.7</td><td>2025-07-30T15:00:00Z</td><td>2025-08-02T17:42:27.1Z</td><td>5b0e31530f7f39104bc7e84da5ec478c87622ba96e7fd6cecb5dd804d0803fa1</td><td>true</td></tr><tr><td>51</td><td>11847</td><td>SIDCO Kurichi, Coimbatore, India</td><td>pm10</td><td>2.7</td><td>20.0</td><td>52.47</td><td>2.6</td><td>2.6</td><td>800.3</td><td>51.0</td><td>50.0</td><td>9.1</td><td>34.0</td><td>5.41</td><td>12.3</td><td>2025-07-30T15:00:00Z</td><td>2025-08-02T17:42:27.1Z</td><td>ef557d866caf7bd430a89e81db3501d54311d62eaa4244e026d8ef80e6aa1544</td><td>true</td></tr><tr><td>113</td><td>11848</td><td>RIICO Ind. Area III, Bhiwadi, India</td><td>pm25</td><td>10.3</td><td>28.0</td><td>96.74</td><td>5.5</td><td>10.5</td><td>733.25</td><td>46.0</td><td>113.0</td><td>3.4</td><td>33.26</td><td>0.24</td><td>10.2</td><td>2025-07-30T15:00:00Z</td><td>2025-08-02T17:42:27.1Z</td><td>c1b513edeeab9c5e04ad1c985db7c231fa61aed3a7543d9ea112c510a0b0c75b</td><td>true</td></tr><tr><td>55</td><td>11899</td><td>Sanjay Nagar, Ghaziabad, India</td><td>pm25</td><td>5.7</td><td>28.0</td><td>57.0</td><td>11.4</td><td>14.4</td><td>738.0</td><td>46.0</td><td>55.0</td><td>7.7</td><td>29.1</td><td>2.1</td><td>10.2</td><td>2025-07-30T15:00:00Z</td><td>2025-08-02T17:42:27.1Z</td><td>1303f3cfd53b8d081cf3172b2afe1b2b2f5bfeb6b193cd6feafdf6c898ab7140</td><td>true</td></tr><tr><td>94</td><td>13731</td><td>IIPHG Lekawada, Gandhinagar, India</td><td>pm25</td><td>4.4</td><td>23.0</td><td>87.24</td><td>3.0</td><td>14.2</td><td>1002.7</td><td>70.0</td><td>94.0</td><td>4.9</td><td>29.0</td><td>0.58</td><td>7.7</td><td>2025-07-30T15:00:00Z</td><td>2025-08-02T17:42:27.1Z</td><td>f7a1d2332366f3902ce6328751f512dd7b222a8be0580bf582ab46f7427827a6</td><td>true</td></tr><tr><td>62</td><td>13737</td><td>Royapuram, Chennai, Chennai, India</td><td>pm10</td><td>5.1</td><td>25.0</td><td>57.0</td><td>14.4</td><td>8.3</td><td>733.0</td><td>62.0</td><td>44.0</td><td>2.2</td><td>28.3</td><td>2.9</td><td>10.2</td><td>2025-07-30T15:00:00Z</td><td>2025-08-02T17:42:27.1Z</td><td>a3832da9cd75cb4e7d8ee70e5255149c2e497ffdcec1c6016f77b124685bcd0f</td><td>true</td></tr><tr><td>148</td><td>13743</td><td>D M Colony, Bihar Sharif, India</td><td>pm25</td><td>0.2</td><td>28.0</td><td>75.0</td><td>3.4</td><td>15.6</td><td>997.0</td><td>66.0</td><td>148.0</td><td>3.7</td><td>33.4</td><td>1.4</td><td>9.2</td><td>2025-07-30T15:00:00Z</td><td>2025-08-02T17:42:27.1Z</td><td>d40d1e4022b29883a8c011241193368edf2d6276d3eec920664c5cd00697e411</td><td>true</td></tr><tr><td>168</td><td>13813</td><td>Darshan Nagar, Chhapra, India</td><td>pm25</td><td>1.1</td><td>28.0</td><td>77.0</td><td>43.9</td><td>15.5</td><td>997.0</td><td>92.0</td><td>168.0</td><td>2.7</td><td>27.8</td><td>1.2</td><td>9.2</td><td>2025-07-30T15:00:00Z</td><td>2025-08-02T17:42:27.1Z</td><td>c4e02dca7cea0b8e2dc34a7c9f495d20bdfacf9c71080fc1ac2b98502f10de8c</td><td>true</td></tr><tr><td>70</td><td>13874</td><td>New DM Office, Arrah, India</td><td>pm25</td><td>3.1</td><td>27.0</td><td>88.0</td><td>2.5</td><td>3.2</td><td>997.0</td><td>41.0</td><td>70.0</td><td>2.9</td><td>26.674999999999997</td><td>0.55</td><td>9.2</td><td>2025-07-30T14:00:00Z</td><td>2025-08-02T17:42:27.1Z</td><td>264825675601d8b119eb20af97b9889d1dbba504eb1f093842a8924b2dc03c5d</td><td>true</td></tr><tr><td>24</td><td>14141</td><td>Sardar Patel Inter College, Baghpat, India</td><td>pm25</td><td>4.6</td><td>28.0</td><td>68.0</td><td>11.6</td><td>18.9</td><td>740.0</td><td>18.0</td><td>24.0</td><td>7.4</td><td>28.2</td><td>1.9</td><td>10.2</td><td>2025-07-30T15:00:00Z</td><td>2025-08-02T17:42:27.1Z</td><td>6be1d84fda3fe24dab4a3a68297cdacacb0cb6006d19ba95717a89a31437339b</td><td>true</td></tr><tr><td>41</td><td>14152</td><td>Mendonsa Colony, Dindigul, India</td><td>pm25</td><td>0.5</td><td>20.0</td><td>46.44</td><td>0.1</td><td>3.3</td><td>969.02</td><td>23.0</td><td>41.0</td><td>8.6</td><td>38.0</td><td>3.25</td><td>11.8</td><td>2025-07-30T15:00:00Z</td><td>2025-08-02T17:42:27.1Z</td><td>f611a84831e087ccf0372622a4e04d6a7ace000a358980760ea4888797821b61</td><td>true</td></tr><tr><td>35</td><td>14697</td><td>Zero Point GICI, Gangtok, India</td><td>pm25</td><td>1.9</td><td>17.0</td><td>97.16</td><td>1.1</td><td>18.2</td><td>616.48</td><td>2.0</td><td>35.0</td><td>0.3</td><td>20.0</td><td>0.33</td><td>7.2</td><td>2025-07-30T15:00:00Z</td><td>2025-08-02T17:42:27.1Z</td><td>7ea9e344f647c85748c1bd1d4ba3a354f07424146be98e3ae5f6d7a2d8d15daf</td><td>true</td></tr><tr><td>32</td><td>14700</td><td>Gurdeo Nagar, Aurangabad, India</td><td>pm25</td><td>0.6</td><td>27.0</td><td>79.0</td><td>2.9</td><td>3.8</td><td>997.0</td><td>16.0</td><td>32.0</td><td>3.5</td><td>27.4</td><td>1.5</td><td>9.2</td><td>2025-07-30T15:00:00Z</td><td>2025-08-02T17:42:27.1Z</td><td>004ea96030f3ea59904c188771bb111bf73a18040240c28289a43bda88ea0635</td><td>true</td></tr></tbody></table></div>"
      ]
     },
     "metadata": {
      "application/vnd.databricks.v1+output": {
       "addedWidgets": {},
       "aggData": [],
       "aggError": "",
       "aggOverflow": false,
       "aggSchema": [],
       "aggSeriesLimitReached": false,
       "aggType": "",
       "arguments": {},
       "columnCustomDisplayInfos": {},
       "data": [
        [
         59,
         8192,
         "Maninagar, Ahmedabad, India",
         "pm25",
         5.6,
         23.0,
         99.999,
         6.7,
         7.8,
         1001.0,
         56.0,
         59.0,
         13.3,
         29.0,
         0.54,
         7.7,
         "2025-07-30T15:00:00Z",
         "2025-08-02T17:42:27.1Z",
         "17a64391d81e7d4537d13a8f3d79d4a421baf94d361307dac5f4062c71a212c1",
         true
        ],
        [
         68,
         10111,
         "Major Dhyan Chand National Stadium, Delhi, Delhi, India",
         "pm25",
         3.2,
         28.0,
         62.75,
         10.4,
         4.0,
         973.05,
         37.0,
         68.0,
         5.2,
         31.45,
         1.0,
         10.2,
         "2025-07-30T15:00:00Z",
         "2025-08-02T17:42:27.1Z",
         "27503beb48b800faf272f7f375723c9b98292df14a804f6451f10f5c71e1ac33",
         true
        ],
        [
         60,
         11302,
         "Yamunapuram, Bulandshahr, India",
         "pm25",
         6.2,
         28.0,
         67.0,
         4.6,
         7.4,
         734.0,
         40.0,
         60.0,
         7.1,
         27.8,
         3.9,
         10.2,
         "2025-07-30T15:00:00Z",
         "2025-08-02T17:42:27.1Z",
         "408d76ba8e71f26295aad80fbd0fce03cd1a729088220f202fabddac6ee2c24f",
         true
        ],
        [
         70,
         11313,
         "Bhopal Chauraha, Dewas, India",
         "pm25",
         2.9,
         23.0,
         36.0,
         13.9,
         10.1,
         1004.0,
         66.0,
         70.0,
         26.3,
         30.3,
         1.0,
         9.7,
         "2025-07-30T15:00:00Z",
         "2025-08-02T17:42:27.1Z",
         "7e67c675fd0260348e8ef09bd2efcbdfad9f1c30f7f515d3cdcbec6374abe08d",
         true
        ],
        [
         88,
         11321,
         "Golden Temple, Amritsar, India",
         "pm25",
         3.5,
         26.0,
         65.39,
         5.4,
         12.7,
         999.5,
         54.0,
         88.0,
         3.9,
         20.88,
         1.09,
         9.2,
         "2025-07-30T15:00:00Z",
         "2025-08-02T17:42:27.1Z",
         "020431533476cc40310d81a94c2037b96c52f4dd39e8d1b2d4474034cb63f6f2",
         true
        ],
        [
         96,
         11843,
         "GIDC, Ankleshwar, India",
         "pm25",
         3.8,
         25.0,
         79.79,
         10.1,
         28.5,
         1000.0,
         52.0,
         96.0,
         20.3,
         31.84,
         3.33,
         8.7,
         "2025-07-30T15:00:00Z",
         "2025-08-02T17:42:27.1Z",
         "5b0e31530f7f39104bc7e84da5ec478c87622ba96e7fd6cecb5dd804d0803fa1",
         true
        ],
        [
         51,
         11847,
         "SIDCO Kurichi, Coimbatore, India",
         "pm10",
         2.7,
         20.0,
         52.47,
         2.6,
         2.6,
         800.3,
         51.0,
         50.0,
         9.1,
         34.0,
         5.41,
         12.3,
         "2025-07-30T15:00:00Z",
         "2025-08-02T17:42:27.1Z",
         "ef557d866caf7bd430a89e81db3501d54311d62eaa4244e026d8ef80e6aa1544",
         true
        ],
        [
         113,
         11848,
         "RIICO Ind. Area III, Bhiwadi, India",
         "pm25",
         10.3,
         28.0,
         96.74,
         5.5,
         10.5,
         733.25,
         46.0,
         113.0,
         3.4,
         33.26,
         0.24,
         10.2,
         "2025-07-30T15:00:00Z",
         "2025-08-02T17:42:27.1Z",
         "c1b513edeeab9c5e04ad1c985db7c231fa61aed3a7543d9ea112c510a0b0c75b",
         true
        ],
        [
         55,
         11899,
         "Sanjay Nagar, Ghaziabad, India",
         "pm25",
         5.7,
         28.0,
         57.0,
         11.4,
         14.4,
         738.0,
         46.0,
         55.0,
         7.7,
         29.1,
         2.1,
         10.2,
         "2025-07-30T15:00:00Z",
         "2025-08-02T17:42:27.1Z",
         "1303f3cfd53b8d081cf3172b2afe1b2b2f5bfeb6b193cd6feafdf6c898ab7140",
         true
        ],
        [
         94,
         13731,
         "IIPHG Lekawada, Gandhinagar, India",
         "pm25",
         4.4,
         23.0,
         87.24,
         3.0,
         14.2,
         1002.7,
         70.0,
         94.0,
         4.9,
         29.0,
         0.58,
         7.7,
         "2025-07-30T15:00:00Z",
         "2025-08-02T17:42:27.1Z",
         "f7a1d2332366f3902ce6328751f512dd7b222a8be0580bf582ab46f7427827a6",
         true
        ],
        [
         62,
         13737,
         "Royapuram, Chennai, Chennai, India",
         "pm10",
         5.1,
         25.0,
         57.0,
         14.4,
         8.3,
         733.0,
         62.0,
         44.0,
         2.2,
         28.3,
         2.9,
         10.2,
         "2025-07-30T15:00:00Z",
         "2025-08-02T17:42:27.1Z",
         "a3832da9cd75cb4e7d8ee70e5255149c2e497ffdcec1c6016f77b124685bcd0f",
         true
        ],
        [
         148,
         13743,
         "D M Colony, Bihar Sharif, India",
         "pm25",
         0.2,
         28.0,
         75.0,
         3.4,
         15.6,
         997.0,
         66.0,
         148.0,
         3.7,
         33.4,
         1.4,
         9.2,
         "2025-07-30T15:00:00Z",
         "2025-08-02T17:42:27.1Z",
         "d40d1e4022b29883a8c011241193368edf2d6276d3eec920664c5cd00697e411",
         true
        ],
        [
         168,
         13813,
         "Darshan Nagar, Chhapra, India",
         "pm25",
         1.1,
         28.0,
         77.0,
         43.9,
         15.5,
         997.0,
         92.0,
         168.0,
         2.7,
         27.8,
         1.2,
         9.2,
         "2025-07-30T15:00:00Z",
         "2025-08-02T17:42:27.1Z",
         "c4e02dca7cea0b8e2dc34a7c9f495d20bdfacf9c71080fc1ac2b98502f10de8c",
         true
        ],
        [
         70,
         13874,
         "New DM Office, Arrah, India",
         "pm25",
         3.1,
         27.0,
         88.0,
         2.5,
         3.2,
         997.0,
         41.0,
         70.0,
         2.9,
         26.674999999999997,
         0.55,
         9.2,
         "2025-07-30T14:00:00Z",
         "2025-08-02T17:42:27.1Z",
         "264825675601d8b119eb20af97b9889d1dbba504eb1f093842a8924b2dc03c5d",
         true
        ],
        [
         24,
         14141,
         "Sardar Patel Inter College, Baghpat, India",
         "pm25",
         4.6,
         28.0,
         68.0,
         11.6,
         18.9,
         740.0,
         18.0,
         24.0,
         7.4,
         28.2,
         1.9,
         10.2,
         "2025-07-30T15:00:00Z",
         "2025-08-02T17:42:27.1Z",
         "6be1d84fda3fe24dab4a3a68297cdacacb0cb6006d19ba95717a89a31437339b",
         true
        ],
        [
         41,
         14152,
         "Mendonsa Colony, Dindigul, India",
         "pm25",
         0.5,
         20.0,
         46.44,
         0.1,
         3.3,
         969.02,
         23.0,
         41.0,
         8.6,
         38.0,
         3.25,
         11.8,
         "2025-07-30T15:00:00Z",
         "2025-08-02T17:42:27.1Z",
         "f611a84831e087ccf0372622a4e04d6a7ace000a358980760ea4888797821b61",
         true
        ],
        [
         35,
         14697,
         "Zero Point GICI, Gangtok, India",
         "pm25",
         1.9,
         17.0,
         97.16,
         1.1,
         18.2,
         616.48,
         2.0,
         35.0,
         0.3,
         20.0,
         0.33,
         7.2,
         "2025-07-30T15:00:00Z",
         "2025-08-02T17:42:27.1Z",
         "7ea9e344f647c85748c1bd1d4ba3a354f07424146be98e3ae5f6d7a2d8d15daf",
         true
        ],
        [
         32,
         14700,
         "Gurdeo Nagar, Aurangabad, India",
         "pm25",
         0.6,
         27.0,
         79.0,
         2.9,
         3.8,
         997.0,
         16.0,
         32.0,
         3.5,
         27.4,
         1.5,
         9.2,
         "2025-07-30T15:00:00Z",
         "2025-08-02T17:42:27.1Z",
         "004ea96030f3ea59904c188771bb111bf73a18040240c28289a43bda88ea0635",
         true
        ]
       ],
       "datasetInfos": [],
       "dbfsResultPath": null,
       "isJsonSchema": true,
       "metadata": {},
       "overflow": false,
       "plotOptions": {
        "customPlotOptions": {},
        "displayType": "table",
        "pivotAggregation": null,
        "pivotColumns": null,
        "xColumns": null,
        "yColumns": null
       },
       "removedWidgets": [],
       "schema": [
        {
         "metadata": "{}",
         "name": "aqi",
         "type": "\"integer\""
        },
        {
         "metadata": "{}",
         "name": "idx",
         "type": "\"integer\""
        },
        {
         "metadata": "{}",
         "name": "city_name",
         "type": "\"string\""
        },
        {
         "metadata": "{}",
         "name": "dominant_pollutant",
         "type": "\"string\""
        },
        {
         "metadata": "{}",
         "name": "co",
         "type": "\"double\""
        },
        {
         "metadata": "{}",
         "name": "dew",
         "type": "\"double\""
        },
        {
         "metadata": "{}",
         "name": "humidity",
         "type": "\"double\""
        },
        {
         "metadata": "{}",
         "name": "no2",
         "type": "\"double\""
        },
        {
         "metadata": "{}",
         "name": "o3",
         "type": "\"double\""
        },
        {
         "metadata": "{}",
         "name": "pressure",
         "type": "\"double\""
        },
        {
         "metadata": "{}",
         "name": "pm10",
         "type": "\"double\""
        },
        {
         "metadata": "{}",
         "name": "pm25",
         "type": "\"double\""
        },
        {
         "metadata": "{}",
         "name": "so2",
         "type": "\"double\""
        },
        {
         "metadata": "{}",
         "name": "temperature",
         "type": "\"double\""
        },
        {
         "metadata": "{}",
         "name": "wind_speed",
         "type": "\"double\""
        },
        {
         "metadata": "{}",
         "name": "wind_gust",
         "type": "\"double\""
        },
        {
         "metadata": "{}",
         "name": "time_s",
         "type": "\"timestamp\""
        },
        {
         "metadata": "{}",
         "name": "Modified_Date",
         "type": "\"timestamp\""
        },
        {
         "metadata": "{}",
         "name": "hash_key",
         "type": "\"string\""
        },
        {
         "metadata": "{}",
         "name": "is_active",
         "type": "\"boolean\""
        }
       ],
       "type": "table"
      }
     },
     "output_type": "display_data"
    }
   ],
   "source": [
    "df_src = spark.sql(f\"select * from {catalog}.{source_schema}.{source_object} where {cdc_col} >= '{load_date}'\")\n",
    "df_src = df_src.withColumn(\"hash_key\", sha2(concat_ws(\"||\", *[col(c).cast(\"string\") for c in columns]), 256)).withColumn(\"is_active\", lit(True))\n",
    "df_src.display()"
   ]
  },
  {
   "cell_type": "code",
   "execution_count": 0,
   "metadata": {
    "application/vnd.databricks.v1+cell": {
     "cellMetadata": {
      "byteLimit": 2048000,
      "rowLimit": 10000
     },
     "inputWidgets": {},
     "nuid": "e8bc6d40-a7f4-4830-91f7-82e1ddbdc0c3",
     "showTitle": false,
     "tableResultSettingsMap": {},
     "title": ""
    }
   },
   "outputs": [],
   "source": [
    "from delta.tables import DeltaTable "
   ]
  },
  {
   "cell_type": "code",
   "execution_count": 0,
   "metadata": {
    "application/vnd.databricks.v1+cell": {
     "cellMetadata": {
      "byteLimit": 2048000,
      "rowLimit": 10000
     },
     "inputWidgets": {},
     "nuid": "225e8e04-65ee-4738-9335-d5cfc207980c",
     "showTitle": false,
     "tableResultSettingsMap": {},
     "title": ""
    }
   },
   "outputs": [],
   "source": [
    "from pyspark.sql.functions import sha2, concat_ws, col, lit, current_timestamp\n",
    "from delta.tables import DeltaTable\n",
    "\n",
    "\n",
    "\n",
    "# Step 2: Read source\n",
    "df_src = spark.sql(f\"select * from {catalog}.{source_schema}.{source_object}\")\n",
    "\n",
    "# Step 3: Create hash key and required metadata\n",
    "business_cols = [\n",
    "    \"aqi\", \"city_name\", \"dominant_pollutant\", \"co\", \"dew\", \"humidity\",\n",
    "    \"no2\", \"o3\", \"pressure\", \"pm10\", \"pm25\", \"so2\", \"temperature\",\n",
    "    \"wind_speed\", \"wind_gust\", \"time_s\",\"Modified_Date\"\n",
    "]\n",
    "\n",
    "df_src = df_src.withColumn(\n",
    "    \"hash_key\", sha2(concat_ws(\"||\", *[col(c).cast(\"string\") for c in business_cols]), 256)\n",
    ").withColumn(\"is_active\", lit(True)) \\\n",
    " .withColumn(\"Modified_Date\", current_timestamp())\n",
    "\n",
    "target_full = f\"{catalog}.{target_schema}.{target_object}\"\n",
    "\n",
    "# Step 4: If table exists, merge with SCD-2 logic\n",
    "if spark.catalog.tableExists(target_full):\n",
    "    delta_target = DeltaTable.forName(spark, target_full)\n",
    "\n",
    "    delta_target.alias(\"tgt\").merge(\n",
    "        df_src.alias(\"src\"),\n",
    "        \"src.idx = tgt.idx AND tgt.is_active = true\"\n",
    "    ).whenMatchedUpdate(\n",
    "        condition=\"src.hash_key != tgt.hash_key\",\n",
    "        set={\n",
    "            \"is_active\": lit(False),\n",
    "            \"modified_date\": current_timestamp()\n",
    "        }\n",
    "    ).whenNotMatchedInsert(\n",
    "        values={col: f\"src.{col}\" for col in df_src.columns}\n",
    "    ).execute()\n",
    "\n",
    "# Step 5: If table doesn’t exist, write full data\n",
    "else:\n",
    "    df_src.write.format(\"delta\").mode(\"overwrite\").saveAsTable(target_full)\n"
   ]
  },
  {
   "cell_type": "code",
   "execution_count": 0,
   "metadata": {
    "application/vnd.databricks.v1+cell": {
     "cellMetadata": {
      "byteLimit": 2048000,
      "rowLimit": 10000
     },
     "inputWidgets": {},
     "nuid": "6c018216-e3ee-4453-8de7-2427c5f5e757",
     "showTitle": false,
     "tableResultSettingsMap": {},
     "title": ""
    }
   },
   "outputs": [
    {
     "output_type": "display_data",
     "data": {
      "text/html": [
       "<style scoped>\n",
       "  .table-result-container {\n",
       "    max-height: 300px;\n",
       "    overflow: auto;\n",
       "  }\n",
       "  table, th, td {\n",
       "    border: 1px solid black;\n",
       "    border-collapse: collapse;\n",
       "  }\n",
       "  th, td {\n",
       "    padding: 5px;\n",
       "  }\n",
       "  th {\n",
       "    text-align: left;\n",
       "  }\n",
       "</style><div class='table-result-container'><table class='table-result'><thead style='background-color: white'><tr><th>aqi</th><th>idx</th><th>city_name</th><th>dominant_pollutant</th><th>co</th><th>dew</th><th>humidity</th><th>no2</th><th>o3</th><th>pressure</th><th>pm10</th><th>pm25</th><th>so2</th><th>temperature</th><th>wind_speed</th><th>wind_gust</th><th>time_s</th><th>Modified_Date</th><th>hash_key</th><th>is_active</th></tr></thead><tbody><tr><td>59</td><td>8192</td><td>Maninagar, Ahmedabad, India</td><td>pm25</td><td>5.6</td><td>23.0</td><td>99.999</td><td>6.7</td><td>7.8</td><td>1001.0</td><td>56.0</td><td>59.0</td><td>13.3</td><td>29.0</td><td>0.54</td><td>7.7</td><td>2025-07-30T15:00:00Z</td><td>2025-08-02T19:55:55.783214Z</td><td>e90319a4914513d053b08f914203bb268f838fa10dbde27bce892f5a9f649b9c</td><td>true</td></tr><tr><td>68</td><td>10111</td><td>Major Dhyan Chand National Stadium, Delhi, Delhi, India</td><td>pm25</td><td>3.2</td><td>28.0</td><td>62.75</td><td>10.4</td><td>4.0</td><td>973.05</td><td>37.0</td><td>68.0</td><td>5.2</td><td>31.45</td><td>1.0</td><td>10.2</td><td>2025-07-30T15:00:00Z</td><td>2025-08-02T19:55:55.783214Z</td><td>e197db441e10d16c4a6888eefb54f0a3b83bc5459d4e8a8d43396f05e4f63dc2</td><td>true</td></tr><tr><td>60</td><td>11302</td><td>Yamunapuram, Bulandshahr, India</td><td>pm25</td><td>6.2</td><td>28.0</td><td>67.0</td><td>4.6</td><td>7.4</td><td>734.0</td><td>40.0</td><td>60.0</td><td>7.1</td><td>27.8</td><td>3.9</td><td>10.2</td><td>2025-07-30T15:00:00Z</td><td>2025-08-02T19:55:55.783214Z</td><td>1dc130731f83d25de56f28609fe843874bd0311f9ae4e9a6f1e84e3979052986</td><td>true</td></tr><tr><td>70</td><td>11313</td><td>Bhopal Chauraha, Dewas, India</td><td>pm25</td><td>2.9</td><td>23.0</td><td>36.0</td><td>13.9</td><td>10.1</td><td>1004.0</td><td>66.0</td><td>70.0</td><td>26.3</td><td>30.3</td><td>1.0</td><td>9.7</td><td>2025-07-30T15:00:00Z</td><td>2025-08-02T19:55:55.783214Z</td><td>769fdc8acbc759ad96d4b06428d5bea6f3af390e7c39a47c24b57d2fbec2cda0</td><td>true</td></tr><tr><td>88</td><td>11321</td><td>Golden Temple, Amritsar, India</td><td>pm25</td><td>3.5</td><td>26.0</td><td>65.39</td><td>5.4</td><td>12.7</td><td>999.5</td><td>54.0</td><td>88.0</td><td>3.9</td><td>20.88</td><td>1.09</td><td>9.2</td><td>2025-07-30T15:00:00Z</td><td>2025-08-02T19:55:55.783214Z</td><td>8170f65c6f69dd13d36489e1c66919b0c7009b01e79bba04f7b60c2f7a8576ab</td><td>true</td></tr><tr><td>96</td><td>11843</td><td>GIDC, Ankleshwar, India</td><td>pm25</td><td>3.8</td><td>25.0</td><td>79.79</td><td>10.1</td><td>28.5</td><td>1000.0</td><td>52.0</td><td>96.0</td><td>20.3</td><td>31.84</td><td>3.33</td><td>8.7</td><td>2025-07-30T15:00:00Z</td><td>2025-08-02T19:55:55.783214Z</td><td>0939bbdbc4b8755c7e9dd8d1cabc33ae4c1a1b479947acf01aed41a77fb3c8c4</td><td>true</td></tr><tr><td>51</td><td>11847</td><td>SIDCO Kurichi, Coimbatore, India</td><td>pm10</td><td>2.7</td><td>20.0</td><td>52.47</td><td>2.6</td><td>2.6</td><td>800.3</td><td>51.0</td><td>50.0</td><td>9.1</td><td>34.0</td><td>5.41</td><td>12.3</td><td>2025-07-30T15:00:00Z</td><td>2025-08-02T19:55:55.783214Z</td><td>08cde4b7ef61e527ac4c880057611f2ca15a911eb78ec7a35798f782deeb6bbc</td><td>true</td></tr><tr><td>113</td><td>11848</td><td>RIICO Ind. Area III, Bhiwadi, India</td><td>pm25</td><td>10.3</td><td>28.0</td><td>96.74</td><td>5.5</td><td>10.5</td><td>733.25</td><td>46.0</td><td>113.0</td><td>3.4</td><td>33.26</td><td>0.24</td><td>10.2</td><td>2025-07-30T15:00:00Z</td><td>2025-08-02T19:55:55.783214Z</td><td>5bd8c78c7fa270135c16ff7d6b1f17d1e533f7143e9d0ea50dbe3ab64faa5bcb</td><td>true</td></tr><tr><td>55</td><td>11899</td><td>Sanjay Nagar, Ghaziabad, India</td><td>pm25</td><td>5.7</td><td>28.0</td><td>57.0</td><td>11.4</td><td>14.4</td><td>738.0</td><td>46.0</td><td>55.0</td><td>7.7</td><td>29.1</td><td>2.1</td><td>10.2</td><td>2025-07-30T15:00:00Z</td><td>2025-08-02T19:55:55.783214Z</td><td>15c1f5f43b2e22f4bd73bbc9428c41c81e1f8cbdd568be5653742bd3f7e308e3</td><td>true</td></tr><tr><td>94</td><td>13731</td><td>IIPHG Lekawada, Gandhinagar, India</td><td>pm25</td><td>4.4</td><td>23.0</td><td>87.24</td><td>3.0</td><td>14.2</td><td>1002.7</td><td>70.0</td><td>94.0</td><td>4.9</td><td>29.0</td><td>0.58</td><td>7.7</td><td>2025-07-30T15:00:00Z</td><td>2025-08-02T19:55:55.783214Z</td><td>ba82202cec3bfa35ae5bb81140e35fe69f3a4050f8fdd9465a9bc0810396e949</td><td>true</td></tr><tr><td>62</td><td>13737</td><td>Royapuram, Chennai, Chennai, India</td><td>pm10</td><td>5.1</td><td>25.0</td><td>57.0</td><td>14.4</td><td>8.3</td><td>733.0</td><td>62.0</td><td>44.0</td><td>2.2</td><td>28.3</td><td>2.9</td><td>10.2</td><td>2025-07-30T15:00:00Z</td><td>2025-08-02T19:55:55.783214Z</td><td>205811d6a5f19f6ea95ca302b2e7218611fdd9fa7320f8107942104114cece7c</td><td>true</td></tr><tr><td>148</td><td>13743</td><td>D M Colony, Bihar Sharif, India</td><td>pm25</td><td>0.2</td><td>28.0</td><td>75.0</td><td>3.4</td><td>15.6</td><td>997.0</td><td>66.0</td><td>148.0</td><td>3.7</td><td>33.4</td><td>1.4</td><td>9.2</td><td>2025-07-30T15:00:00Z</td><td>2025-08-02T19:55:55.783214Z</td><td>6d012900f7e47f7993d6be25ebfdb9c4b86dab610d0d8ba1ec0f34b43eae2be8</td><td>true</td></tr><tr><td>168</td><td>13813</td><td>Darshan Nagar, Chhapra, India</td><td>pm25</td><td>1.1</td><td>28.0</td><td>77.0</td><td>43.9</td><td>15.5</td><td>997.0</td><td>92.0</td><td>168.0</td><td>2.7</td><td>27.8</td><td>1.2</td><td>9.2</td><td>2025-07-30T15:00:00Z</td><td>2025-08-02T19:55:55.783214Z</td><td>06883b50323e040ba54ff948950799e9ad8eec2031dbab04524a1c0af86432d8</td><td>true</td></tr><tr><td>70</td><td>13874</td><td>New DM Office, Arrah, India</td><td>pm25</td><td>3.1</td><td>27.0</td><td>88.0</td><td>2.5</td><td>3.2</td><td>997.0</td><td>41.0</td><td>70.0</td><td>2.9</td><td>26.674999999999997</td><td>0.55</td><td>9.2</td><td>2025-07-30T14:00:00Z</td><td>2025-08-02T19:55:55.783214Z</td><td>df026e1455495734838d9d0de67bd6ba30aa485163a52ceb21e4a1f0c405c822</td><td>true</td></tr><tr><td>24</td><td>14141</td><td>Sardar Patel Inter College, Baghpat, India</td><td>pm25</td><td>4.6</td><td>28.0</td><td>68.0</td><td>11.6</td><td>18.9</td><td>740.0</td><td>18.0</td><td>24.0</td><td>7.4</td><td>28.2</td><td>1.9</td><td>10.2</td><td>2025-07-30T15:00:00Z</td><td>2025-08-02T19:55:55.783214Z</td><td>2e620ba447d1e447b363d2bda9bff3b6afb3d4ff54348e0828600af752faa36b</td><td>true</td></tr><tr><td>41</td><td>14152</td><td>Mendonsa Colony, Dindigul, India</td><td>pm25</td><td>0.5</td><td>20.0</td><td>46.44</td><td>0.1</td><td>3.3</td><td>969.02</td><td>23.0</td><td>41.0</td><td>8.6</td><td>38.0</td><td>3.25</td><td>11.8</td><td>2025-07-30T15:00:00Z</td><td>2025-08-02T19:55:55.783214Z</td><td>30ac2a0a51f31e1372d80073b62869da64ec1b32a7651b2c31f877843e88500e</td><td>true</td></tr><tr><td>35</td><td>14697</td><td>Zero Point GICI, Gangtok, India</td><td>pm25</td><td>1.9</td><td>17.0</td><td>97.16</td><td>1.1</td><td>18.2</td><td>616.48</td><td>2.0</td><td>35.0</td><td>0.3</td><td>20.0</td><td>0.33</td><td>7.2</td><td>2025-07-30T15:00:00Z</td><td>2025-08-02T19:55:55.783214Z</td><td>708599c40fa56895eeee5b3b5ed22538dcb3236d6ad00aa0d2fdca8c6ee97639</td><td>true</td></tr><tr><td>32</td><td>14700</td><td>Gurdeo Nagar, Aurangabad, India</td><td>pm25</td><td>0.6</td><td>27.0</td><td>79.0</td><td>2.9</td><td>3.8</td><td>997.0</td><td>16.0</td><td>32.0</td><td>3.5</td><td>27.4</td><td>1.5</td><td>9.2</td><td>2025-07-30T15:00:00Z</td><td>2025-08-02T19:55:55.783214Z</td><td>baa0cfbd3e2679cceab650d40c1e8962fe2eb5b7e8644e5c5abaef2d152d049e</td><td>true</td></tr></tbody></table></div>"
      ]
     },
     "metadata": {
      "application/vnd.databricks.v1+output": {
       "addedWidgets": {},
       "aggData": [],
       "aggError": "",
       "aggOverflow": false,
       "aggSchema": [],
       "aggSeriesLimitReached": false,
       "aggType": "",
       "arguments": {},
       "columnCustomDisplayInfos": {},
       "data": [
        [
         59,
         8192,
         "Maninagar, Ahmedabad, India",
         "pm25",
         5.6,
         23.0,
         99.999,
         6.7,
         7.8,
         1001.0,
         56.0,
         59.0,
         13.3,
         29.0,
         0.54,
         7.7,
         "2025-07-30T15:00:00Z",
         "2025-08-02T19:55:55.783214Z",
         "e90319a4914513d053b08f914203bb268f838fa10dbde27bce892f5a9f649b9c",
         true
        ],
        [
         68,
         10111,
         "Major Dhyan Chand National Stadium, Delhi, Delhi, India",
         "pm25",
         3.2,
         28.0,
         62.75,
         10.4,
         4.0,
         973.05,
         37.0,
         68.0,
         5.2,
         31.45,
         1.0,
         10.2,
         "2025-07-30T15:00:00Z",
         "2025-08-02T19:55:55.783214Z",
         "e197db441e10d16c4a6888eefb54f0a3b83bc5459d4e8a8d43396f05e4f63dc2",
         true
        ],
        [
         60,
         11302,
         "Yamunapuram, Bulandshahr, India",
         "pm25",
         6.2,
         28.0,
         67.0,
         4.6,
         7.4,
         734.0,
         40.0,
         60.0,
         7.1,
         27.8,
         3.9,
         10.2,
         "2025-07-30T15:00:00Z",
         "2025-08-02T19:55:55.783214Z",
         "1dc130731f83d25de56f28609fe843874bd0311f9ae4e9a6f1e84e3979052986",
         true
        ],
        [
         70,
         11313,
         "Bhopal Chauraha, Dewas, India",
         "pm25",
         2.9,
         23.0,
         36.0,
         13.9,
         10.1,
         1004.0,
         66.0,
         70.0,
         26.3,
         30.3,
         1.0,
         9.7,
         "2025-07-30T15:00:00Z",
         "2025-08-02T19:55:55.783214Z",
         "769fdc8acbc759ad96d4b06428d5bea6f3af390e7c39a47c24b57d2fbec2cda0",
         true
        ],
        [
         88,
         11321,
         "Golden Temple, Amritsar, India",
         "pm25",
         3.5,
         26.0,
         65.39,
         5.4,
         12.7,
         999.5,
         54.0,
         88.0,
         3.9,
         20.88,
         1.09,
         9.2,
         "2025-07-30T15:00:00Z",
         "2025-08-02T19:55:55.783214Z",
         "8170f65c6f69dd13d36489e1c66919b0c7009b01e79bba04f7b60c2f7a8576ab",
         true
        ],
        [
         96,
         11843,
         "GIDC, Ankleshwar, India",
         "pm25",
         3.8,
         25.0,
         79.79,
         10.1,
         28.5,
         1000.0,
         52.0,
         96.0,
         20.3,
         31.84,
         3.33,
         8.7,
         "2025-07-30T15:00:00Z",
         "2025-08-02T19:55:55.783214Z",
         "0939bbdbc4b8755c7e9dd8d1cabc33ae4c1a1b479947acf01aed41a77fb3c8c4",
         true
        ],
        [
         51,
         11847,
         "SIDCO Kurichi, Coimbatore, India",
         "pm10",
         2.7,
         20.0,
         52.47,
         2.6,
         2.6,
         800.3,
         51.0,
         50.0,
         9.1,
         34.0,
         5.41,
         12.3,
         "2025-07-30T15:00:00Z",
         "2025-08-02T19:55:55.783214Z",
         "08cde4b7ef61e527ac4c880057611f2ca15a911eb78ec7a35798f782deeb6bbc",
         true
        ],
        [
         113,
         11848,
         "RIICO Ind. Area III, Bhiwadi, India",
         "pm25",
         10.3,
         28.0,
         96.74,
         5.5,
         10.5,
         733.25,
         46.0,
         113.0,
         3.4,
         33.26,
         0.24,
         10.2,
         "2025-07-30T15:00:00Z",
         "2025-08-02T19:55:55.783214Z",
         "5bd8c78c7fa270135c16ff7d6b1f17d1e533f7143e9d0ea50dbe3ab64faa5bcb",
         true
        ],
        [
         55,
         11899,
         "Sanjay Nagar, Ghaziabad, India",
         "pm25",
         5.7,
         28.0,
         57.0,
         11.4,
         14.4,
         738.0,
         46.0,
         55.0,
         7.7,
         29.1,
         2.1,
         10.2,
         "2025-07-30T15:00:00Z",
         "2025-08-02T19:55:55.783214Z",
         "15c1f5f43b2e22f4bd73bbc9428c41c81e1f8cbdd568be5653742bd3f7e308e3",
         true
        ],
        [
         94,
         13731,
         "IIPHG Lekawada, Gandhinagar, India",
         "pm25",
         4.4,
         23.0,
         87.24,
         3.0,
         14.2,
         1002.7,
         70.0,
         94.0,
         4.9,
         29.0,
         0.58,
         7.7,
         "2025-07-30T15:00:00Z",
         "2025-08-02T19:55:55.783214Z",
         "ba82202cec3bfa35ae5bb81140e35fe69f3a4050f8fdd9465a9bc0810396e949",
         true
        ],
        [
         62,
         13737,
         "Royapuram, Chennai, Chennai, India",
         "pm10",
         5.1,
         25.0,
         57.0,
         14.4,
         8.3,
         733.0,
         62.0,
         44.0,
         2.2,
         28.3,
         2.9,
         10.2,
         "2025-07-30T15:00:00Z",
         "2025-08-02T19:55:55.783214Z",
         "205811d6a5f19f6ea95ca302b2e7218611fdd9fa7320f8107942104114cece7c",
         true
        ],
        [
         148,
         13743,
         "D M Colony, Bihar Sharif, India",
         "pm25",
         0.2,
         28.0,
         75.0,
         3.4,
         15.6,
         997.0,
         66.0,
         148.0,
         3.7,
         33.4,
         1.4,
         9.2,
         "2025-07-30T15:00:00Z",
         "2025-08-02T19:55:55.783214Z",
         "6d012900f7e47f7993d6be25ebfdb9c4b86dab610d0d8ba1ec0f34b43eae2be8",
         true
        ],
        [
         168,
         13813,
         "Darshan Nagar, Chhapra, India",
         "pm25",
         1.1,
         28.0,
         77.0,
         43.9,
         15.5,
         997.0,
         92.0,
         168.0,
         2.7,
         27.8,
         1.2,
         9.2,
         "2025-07-30T15:00:00Z",
         "2025-08-02T19:55:55.783214Z",
         "06883b50323e040ba54ff948950799e9ad8eec2031dbab04524a1c0af86432d8",
         true
        ],
        [
         70,
         13874,
         "New DM Office, Arrah, India",
         "pm25",
         3.1,
         27.0,
         88.0,
         2.5,
         3.2,
         997.0,
         41.0,
         70.0,
         2.9,
         26.674999999999997,
         0.55,
         9.2,
         "2025-07-30T14:00:00Z",
         "2025-08-02T19:55:55.783214Z",
         "df026e1455495734838d9d0de67bd6ba30aa485163a52ceb21e4a1f0c405c822",
         true
        ],
        [
         24,
         14141,
         "Sardar Patel Inter College, Baghpat, India",
         "pm25",
         4.6,
         28.0,
         68.0,
         11.6,
         18.9,
         740.0,
         18.0,
         24.0,
         7.4,
         28.2,
         1.9,
         10.2,
         "2025-07-30T15:00:00Z",
         "2025-08-02T19:55:55.783214Z",
         "2e620ba447d1e447b363d2bda9bff3b6afb3d4ff54348e0828600af752faa36b",
         true
        ],
        [
         41,
         14152,
         "Mendonsa Colony, Dindigul, India",
         "pm25",
         0.5,
         20.0,
         46.44,
         0.1,
         3.3,
         969.02,
         23.0,
         41.0,
         8.6,
         38.0,
         3.25,
         11.8,
         "2025-07-30T15:00:00Z",
         "2025-08-02T19:55:55.783214Z",
         "30ac2a0a51f31e1372d80073b62869da64ec1b32a7651b2c31f877843e88500e",
         true
        ],
        [
         35,
         14697,
         "Zero Point GICI, Gangtok, India",
         "pm25",
         1.9,
         17.0,
         97.16,
         1.1,
         18.2,
         616.48,
         2.0,
         35.0,
         0.3,
         20.0,
         0.33,
         7.2,
         "2025-07-30T15:00:00Z",
         "2025-08-02T19:55:55.783214Z",
         "708599c40fa56895eeee5b3b5ed22538dcb3236d6ad00aa0d2fdca8c6ee97639",
         true
        ],
        [
         32,
         14700,
         "Gurdeo Nagar, Aurangabad, India",
         "pm25",
         0.6,
         27.0,
         79.0,
         2.9,
         3.8,
         997.0,
         16.0,
         32.0,
         3.5,
         27.4,
         1.5,
         9.2,
         "2025-07-30T15:00:00Z",
         "2025-08-02T19:55:55.783214Z",
         "baa0cfbd3e2679cceab650d40c1e8962fe2eb5b7e8644e5c5abaef2d152d049e",
         true
        ]
       ],
       "datasetInfos": [],
       "dbfsResultPath": null,
       "isJsonSchema": true,
       "metadata": {},
       "overflow": false,
       "plotOptions": {
        "customPlotOptions": {},
        "displayType": "table",
        "pivotAggregation": null,
        "pivotColumns": null,
        "xColumns": null,
        "yColumns": null
       },
       "removedWidgets": [],
       "schema": [
        {
         "metadata": "{}",
         "name": "aqi",
         "type": "\"integer\""
        },
        {
         "metadata": "{}",
         "name": "idx",
         "type": "\"integer\""
        },
        {
         "metadata": "{}",
         "name": "city_name",
         "type": "\"string\""
        },
        {
         "metadata": "{}",
         "name": "dominant_pollutant",
         "type": "\"string\""
        },
        {
         "metadata": "{}",
         "name": "co",
         "type": "\"double\""
        },
        {
         "metadata": "{}",
         "name": "dew",
         "type": "\"double\""
        },
        {
         "metadata": "{}",
         "name": "humidity",
         "type": "\"double\""
        },
        {
         "metadata": "{}",
         "name": "no2",
         "type": "\"double\""
        },
        {
         "metadata": "{}",
         "name": "o3",
         "type": "\"double\""
        },
        {
         "metadata": "{}",
         "name": "pressure",
         "type": "\"double\""
        },
        {
         "metadata": "{}",
         "name": "pm10",
         "type": "\"double\""
        },
        {
         "metadata": "{}",
         "name": "pm25",
         "type": "\"double\""
        },
        {
         "metadata": "{}",
         "name": "so2",
         "type": "\"double\""
        },
        {
         "metadata": "{}",
         "name": "temperature",
         "type": "\"double\""
        },
        {
         "metadata": "{}",
         "name": "wind_speed",
         "type": "\"double\""
        },
        {
         "metadata": "{}",
         "name": "wind_gust",
         "type": "\"double\""
        },
        {
         "metadata": "{}",
         "name": "time_s",
         "type": "\"timestamp\""
        },
        {
         "metadata": "{}",
         "name": "Modified_Date",
         "type": "\"timestamp\""
        },
        {
         "metadata": "{}",
         "name": "hash_key",
         "type": "\"string\""
        },
        {
         "metadata": "{}",
         "name": "is_active",
         "type": "\"boolean\""
        }
       ],
       "type": "table"
      }
     },
     "output_type": "display_data"
    }
   ],
   "source": [
    "df_src.display()"
   ]
  },
  {
   "cell_type": "code",
   "execution_count": 0,
   "metadata": {
    "application/vnd.databricks.v1+cell": {
     "cellMetadata": {
      "byteLimit": 2048000,
      "implicitDf": true,
      "rowLimit": 10000
     },
     "inputWidgets": {},
     "nuid": "748ab9d7-850d-4ee2-86b0-a7cbadbe2a6c",
     "showTitle": false,
     "tableResultSettingsMap": {},
     "title": ""
    }
   },
   "outputs": [
    {
     "output_type": "display_data",
     "data": {
      "text/html": [
       "<style scoped>\n",
       "  .table-result-container {\n",
       "    max-height: 300px;\n",
       "    overflow: auto;\n",
       "  }\n",
       "  table, th, td {\n",
       "    border: 1px solid black;\n",
       "    border-collapse: collapse;\n",
       "  }\n",
       "  th, td {\n",
       "    padding: 5px;\n",
       "  }\n",
       "  th {\n",
       "    text-align: left;\n",
       "  }\n",
       "</style><div class='table-result-container'><table class='table-result'><thead style='background-color: white'><tr><th>aqi</th><th>idx</th><th>city_name</th><th>dominant_pollutant</th><th>co</th><th>dew</th><th>humidity</th><th>no2</th><th>o3</th><th>pressure</th><th>pm10</th><th>pm25</th><th>so2</th><th>temperature</th><th>wind_speed</th><th>wind_gust</th><th>time_s</th><th>Modified_Date</th><th>hash_key</th><th>is_active</th></tr></thead><tbody><tr><td>59</td><td>8192</td><td>Maninagar, Ahmedabad, India</td><td>pm25</td><td>5.6</td><td>23.0</td><td>99.999</td><td>6.7</td><td>7.8</td><td>1001.0</td><td>56.0</td><td>59.0</td><td>13.3</td><td>29.0</td><td>0.54</td><td>7.7</td><td>2025-07-30T15:00:00Z</td><td>2025-08-02T19:55:44.88428Z</td><td>e90319a4914513d053b08f914203bb268f838fa10dbde27bce892f5a9f649b9c</td><td>true</td></tr><tr><td>68</td><td>10111</td><td>Major Dhyan Chand National Stadium, Delhi, Delhi, India</td><td>pm25</td><td>3.2</td><td>28.0</td><td>62.75</td><td>10.4</td><td>4.0</td><td>973.05</td><td>37.0</td><td>68.0</td><td>5.2</td><td>31.45</td><td>1.0</td><td>10.2</td><td>2025-07-30T15:00:00Z</td><td>2025-08-02T19:55:44.88428Z</td><td>e197db441e10d16c4a6888eefb54f0a3b83bc5459d4e8a8d43396f05e4f63dc2</td><td>true</td></tr><tr><td>60</td><td>11302</td><td>Yamunapuram, Bulandshahr, India</td><td>pm25</td><td>6.2</td><td>28.0</td><td>67.0</td><td>4.6</td><td>7.4</td><td>734.0</td><td>40.0</td><td>60.0</td><td>7.1</td><td>27.8</td><td>3.9</td><td>10.2</td><td>2025-07-30T15:00:00Z</td><td>2025-08-02T19:55:44.88428Z</td><td>1dc130731f83d25de56f28609fe843874bd0311f9ae4e9a6f1e84e3979052986</td><td>true</td></tr><tr><td>70</td><td>11313</td><td>Bhopal Chauraha, Dewas, India</td><td>pm25</td><td>2.9</td><td>23.0</td><td>36.0</td><td>13.9</td><td>10.1</td><td>1004.0</td><td>66.0</td><td>70.0</td><td>26.3</td><td>30.3</td><td>1.0</td><td>9.7</td><td>2025-07-30T15:00:00Z</td><td>2025-08-02T19:55:44.88428Z</td><td>769fdc8acbc759ad96d4b06428d5bea6f3af390e7c39a47c24b57d2fbec2cda0</td><td>true</td></tr><tr><td>88</td><td>11321</td><td>Golden Temple, Amritsar, India</td><td>pm25</td><td>3.5</td><td>26.0</td><td>65.39</td><td>5.4</td><td>12.7</td><td>999.5</td><td>54.0</td><td>88.0</td><td>3.9</td><td>20.88</td><td>1.09</td><td>9.2</td><td>2025-07-30T15:00:00Z</td><td>2025-08-02T19:55:44.88428Z</td><td>8170f65c6f69dd13d36489e1c66919b0c7009b01e79bba04f7b60c2f7a8576ab</td><td>true</td></tr><tr><td>96</td><td>11843</td><td>GIDC, Ankleshwar, India</td><td>pm25</td><td>3.8</td><td>25.0</td><td>79.79</td><td>10.1</td><td>28.5</td><td>1000.0</td><td>52.0</td><td>96.0</td><td>20.3</td><td>31.84</td><td>3.33</td><td>8.7</td><td>2025-07-30T15:00:00Z</td><td>2025-08-02T19:55:44.88428Z</td><td>0939bbdbc4b8755c7e9dd8d1cabc33ae4c1a1b479947acf01aed41a77fb3c8c4</td><td>true</td></tr><tr><td>51</td><td>11847</td><td>SIDCO Kurichi, Coimbatore, India</td><td>pm10</td><td>2.7</td><td>20.0</td><td>52.47</td><td>2.6</td><td>2.6</td><td>800.3</td><td>51.0</td><td>50.0</td><td>9.1</td><td>34.0</td><td>5.41</td><td>12.3</td><td>2025-07-30T15:00:00Z</td><td>2025-08-02T19:55:44.88428Z</td><td>08cde4b7ef61e527ac4c880057611f2ca15a911eb78ec7a35798f782deeb6bbc</td><td>true</td></tr><tr><td>113</td><td>11848</td><td>RIICO Ind. Area III, Bhiwadi, India</td><td>pm25</td><td>10.3</td><td>28.0</td><td>96.74</td><td>5.5</td><td>10.5</td><td>733.25</td><td>46.0</td><td>113.0</td><td>3.4</td><td>33.26</td><td>0.24</td><td>10.2</td><td>2025-07-30T15:00:00Z</td><td>2025-08-02T19:55:44.88428Z</td><td>5bd8c78c7fa270135c16ff7d6b1f17d1e533f7143e9d0ea50dbe3ab64faa5bcb</td><td>true</td></tr><tr><td>55</td><td>11899</td><td>Sanjay Nagar, Ghaziabad, India</td><td>pm25</td><td>5.7</td><td>28.0</td><td>57.0</td><td>11.4</td><td>14.4</td><td>738.0</td><td>46.0</td><td>55.0</td><td>7.7</td><td>29.1</td><td>2.1</td><td>10.2</td><td>2025-07-30T15:00:00Z</td><td>2025-08-02T19:55:44.88428Z</td><td>15c1f5f43b2e22f4bd73bbc9428c41c81e1f8cbdd568be5653742bd3f7e308e3</td><td>true</td></tr><tr><td>94</td><td>13731</td><td>IIPHG Lekawada, Gandhinagar, India</td><td>pm25</td><td>4.4</td><td>23.0</td><td>87.24</td><td>3.0</td><td>14.2</td><td>1002.7</td><td>70.0</td><td>94.0</td><td>4.9</td><td>29.0</td><td>0.58</td><td>7.7</td><td>2025-07-30T15:00:00Z</td><td>2025-08-02T19:55:44.88428Z</td><td>ba82202cec3bfa35ae5bb81140e35fe69f3a4050f8fdd9465a9bc0810396e949</td><td>true</td></tr><tr><td>62</td><td>13737</td><td>Royapuram, Chennai, Chennai, India</td><td>pm10</td><td>5.1</td><td>25.0</td><td>57.0</td><td>14.4</td><td>8.3</td><td>733.0</td><td>62.0</td><td>44.0</td><td>2.2</td><td>28.3</td><td>2.9</td><td>10.2</td><td>2025-07-30T15:00:00Z</td><td>2025-08-02T19:55:44.88428Z</td><td>205811d6a5f19f6ea95ca302b2e7218611fdd9fa7320f8107942104114cece7c</td><td>true</td></tr><tr><td>148</td><td>13743</td><td>D M Colony, Bihar Sharif, India</td><td>pm25</td><td>0.2</td><td>28.0</td><td>75.0</td><td>3.4</td><td>15.6</td><td>997.0</td><td>66.0</td><td>148.0</td><td>3.7</td><td>33.4</td><td>1.4</td><td>9.2</td><td>2025-07-30T15:00:00Z</td><td>2025-08-02T19:55:44.88428Z</td><td>6d012900f7e47f7993d6be25ebfdb9c4b86dab610d0d8ba1ec0f34b43eae2be8</td><td>true</td></tr><tr><td>168</td><td>13813</td><td>Darshan Nagar, Chhapra, India</td><td>pm25</td><td>1.1</td><td>28.0</td><td>77.0</td><td>43.9</td><td>15.5</td><td>997.0</td><td>92.0</td><td>168.0</td><td>2.7</td><td>27.8</td><td>1.2</td><td>9.2</td><td>2025-07-30T15:00:00Z</td><td>2025-08-02T19:55:44.88428Z</td><td>06883b50323e040ba54ff948950799e9ad8eec2031dbab04524a1c0af86432d8</td><td>true</td></tr><tr><td>70</td><td>13874</td><td>New DM Office, Arrah, India</td><td>pm25</td><td>3.1</td><td>27.0</td><td>88.0</td><td>2.5</td><td>3.2</td><td>997.0</td><td>41.0</td><td>70.0</td><td>2.9</td><td>26.674999999999997</td><td>0.55</td><td>9.2</td><td>2025-07-30T14:00:00Z</td><td>2025-08-02T19:55:44.88428Z</td><td>df026e1455495734838d9d0de67bd6ba30aa485163a52ceb21e4a1f0c405c822</td><td>true</td></tr><tr><td>24</td><td>14141</td><td>Sardar Patel Inter College, Baghpat, India</td><td>pm25</td><td>4.6</td><td>28.0</td><td>68.0</td><td>11.6</td><td>18.9</td><td>740.0</td><td>18.0</td><td>24.0</td><td>7.4</td><td>28.2</td><td>1.9</td><td>10.2</td><td>2025-07-30T15:00:00Z</td><td>2025-08-02T19:55:44.88428Z</td><td>2e620ba447d1e447b363d2bda9bff3b6afb3d4ff54348e0828600af752faa36b</td><td>true</td></tr><tr><td>41</td><td>14152</td><td>Mendonsa Colony, Dindigul, India</td><td>pm25</td><td>0.5</td><td>20.0</td><td>46.44</td><td>0.1</td><td>3.3</td><td>969.02</td><td>23.0</td><td>41.0</td><td>8.6</td><td>38.0</td><td>3.25</td><td>11.8</td><td>2025-07-30T15:00:00Z</td><td>2025-08-02T19:55:44.88428Z</td><td>30ac2a0a51f31e1372d80073b62869da64ec1b32a7651b2c31f877843e88500e</td><td>true</td></tr><tr><td>35</td><td>14697</td><td>Zero Point GICI, Gangtok, India</td><td>pm25</td><td>1.9</td><td>17.0</td><td>97.16</td><td>1.1</td><td>18.2</td><td>616.48</td><td>2.0</td><td>35.0</td><td>0.3</td><td>20.0</td><td>0.33</td><td>7.2</td><td>2025-07-30T15:00:00Z</td><td>2025-08-02T19:55:44.88428Z</td><td>708599c40fa56895eeee5b3b5ed22538dcb3236d6ad00aa0d2fdca8c6ee97639</td><td>true</td></tr><tr><td>32</td><td>14700</td><td>Gurdeo Nagar, Aurangabad, India</td><td>pm25</td><td>0.6</td><td>27.0</td><td>79.0</td><td>2.9</td><td>3.8</td><td>997.0</td><td>16.0</td><td>32.0</td><td>3.5</td><td>27.4</td><td>1.5</td><td>9.2</td><td>2025-07-30T15:00:00Z</td><td>2025-08-02T19:55:44.88428Z</td><td>baa0cfbd3e2679cceab650d40c1e8962fe2eb5b7e8644e5c5abaef2d152d049e</td><td>true</td></tr></tbody></table></div>"
      ]
     },
     "metadata": {
      "application/vnd.databricks.v1+output": {
       "addedWidgets": {},
       "aggData": [],
       "aggError": "",
       "aggOverflow": false,
       "aggSchema": [],
       "aggSeriesLimitReached": false,
       "aggType": "",
       "arguments": {},
       "columnCustomDisplayInfos": {},
       "data": [
        [
         59,
         8192,
         "Maninagar, Ahmedabad, India",
         "pm25",
         5.6,
         23.0,
         99.999,
         6.7,
         7.8,
         1001.0,
         56.0,
         59.0,
         13.3,
         29.0,
         0.54,
         7.7,
         "2025-07-30T15:00:00Z",
         "2025-08-02T19:55:44.88428Z",
         "e90319a4914513d053b08f914203bb268f838fa10dbde27bce892f5a9f649b9c",
         true
        ],
        [
         68,
         10111,
         "Major Dhyan Chand National Stadium, Delhi, Delhi, India",
         "pm25",
         3.2,
         28.0,
         62.75,
         10.4,
         4.0,
         973.05,
         37.0,
         68.0,
         5.2,
         31.45,
         1.0,
         10.2,
         "2025-07-30T15:00:00Z",
         "2025-08-02T19:55:44.88428Z",
         "e197db441e10d16c4a6888eefb54f0a3b83bc5459d4e8a8d43396f05e4f63dc2",
         true
        ],
        [
         60,
         11302,
         "Yamunapuram, Bulandshahr, India",
         "pm25",
         6.2,
         28.0,
         67.0,
         4.6,
         7.4,
         734.0,
         40.0,
         60.0,
         7.1,
         27.8,
         3.9,
         10.2,
         "2025-07-30T15:00:00Z",
         "2025-08-02T19:55:44.88428Z",
         "1dc130731f83d25de56f28609fe843874bd0311f9ae4e9a6f1e84e3979052986",
         true
        ],
        [
         70,
         11313,
         "Bhopal Chauraha, Dewas, India",
         "pm25",
         2.9,
         23.0,
         36.0,
         13.9,
         10.1,
         1004.0,
         66.0,
         70.0,
         26.3,
         30.3,
         1.0,
         9.7,
         "2025-07-30T15:00:00Z",
         "2025-08-02T19:55:44.88428Z",
         "769fdc8acbc759ad96d4b06428d5bea6f3af390e7c39a47c24b57d2fbec2cda0",
         true
        ],
        [
         88,
         11321,
         "Golden Temple, Amritsar, India",
         "pm25",
         3.5,
         26.0,
         65.39,
         5.4,
         12.7,
         999.5,
         54.0,
         88.0,
         3.9,
         20.88,
         1.09,
         9.2,
         "2025-07-30T15:00:00Z",
         "2025-08-02T19:55:44.88428Z",
         "8170f65c6f69dd13d36489e1c66919b0c7009b01e79bba04f7b60c2f7a8576ab",
         true
        ],
        [
         96,
         11843,
         "GIDC, Ankleshwar, India",
         "pm25",
         3.8,
         25.0,
         79.79,
         10.1,
         28.5,
         1000.0,
         52.0,
         96.0,
         20.3,
         31.84,
         3.33,
         8.7,
         "2025-07-30T15:00:00Z",
         "2025-08-02T19:55:44.88428Z",
         "0939bbdbc4b8755c7e9dd8d1cabc33ae4c1a1b479947acf01aed41a77fb3c8c4",
         true
        ],
        [
         51,
         11847,
         "SIDCO Kurichi, Coimbatore, India",
         "pm10",
         2.7,
         20.0,
         52.47,
         2.6,
         2.6,
         800.3,
         51.0,
         50.0,
         9.1,
         34.0,
         5.41,
         12.3,
         "2025-07-30T15:00:00Z",
         "2025-08-02T19:55:44.88428Z",
         "08cde4b7ef61e527ac4c880057611f2ca15a911eb78ec7a35798f782deeb6bbc",
         true
        ],
        [
         113,
         11848,
         "RIICO Ind. Area III, Bhiwadi, India",
         "pm25",
         10.3,
         28.0,
         96.74,
         5.5,
         10.5,
         733.25,
         46.0,
         113.0,
         3.4,
         33.26,
         0.24,
         10.2,
         "2025-07-30T15:00:00Z",
         "2025-08-02T19:55:44.88428Z",
         "5bd8c78c7fa270135c16ff7d6b1f17d1e533f7143e9d0ea50dbe3ab64faa5bcb",
         true
        ],
        [
         55,
         11899,
         "Sanjay Nagar, Ghaziabad, India",
         "pm25",
         5.7,
         28.0,
         57.0,
         11.4,
         14.4,
         738.0,
         46.0,
         55.0,
         7.7,
         29.1,
         2.1,
         10.2,
         "2025-07-30T15:00:00Z",
         "2025-08-02T19:55:44.88428Z",
         "15c1f5f43b2e22f4bd73bbc9428c41c81e1f8cbdd568be5653742bd3f7e308e3",
         true
        ],
        [
         94,
         13731,
         "IIPHG Lekawada, Gandhinagar, India",
         "pm25",
         4.4,
         23.0,
         87.24,
         3.0,
         14.2,
         1002.7,
         70.0,
         94.0,
         4.9,
         29.0,
         0.58,
         7.7,
         "2025-07-30T15:00:00Z",
         "2025-08-02T19:55:44.88428Z",
         "ba82202cec3bfa35ae5bb81140e35fe69f3a4050f8fdd9465a9bc0810396e949",
         true
        ],
        [
         62,
         13737,
         "Royapuram, Chennai, Chennai, India",
         "pm10",
         5.1,
         25.0,
         57.0,
         14.4,
         8.3,
         733.0,
         62.0,
         44.0,
         2.2,
         28.3,
         2.9,
         10.2,
         "2025-07-30T15:00:00Z",
         "2025-08-02T19:55:44.88428Z",
         "205811d6a5f19f6ea95ca302b2e7218611fdd9fa7320f8107942104114cece7c",
         true
        ],
        [
         148,
         13743,
         "D M Colony, Bihar Sharif, India",
         "pm25",
         0.2,
         28.0,
         75.0,
         3.4,
         15.6,
         997.0,
         66.0,
         148.0,
         3.7,
         33.4,
         1.4,
         9.2,
         "2025-07-30T15:00:00Z",
         "2025-08-02T19:55:44.88428Z",
         "6d012900f7e47f7993d6be25ebfdb9c4b86dab610d0d8ba1ec0f34b43eae2be8",
         true
        ],
        [
         168,
         13813,
         "Darshan Nagar, Chhapra, India",
         "pm25",
         1.1,
         28.0,
         77.0,
         43.9,
         15.5,
         997.0,
         92.0,
         168.0,
         2.7,
         27.8,
         1.2,
         9.2,
         "2025-07-30T15:00:00Z",
         "2025-08-02T19:55:44.88428Z",
         "06883b50323e040ba54ff948950799e9ad8eec2031dbab04524a1c0af86432d8",
         true
        ],
        [
         70,
         13874,
         "New DM Office, Arrah, India",
         "pm25",
         3.1,
         27.0,
         88.0,
         2.5,
         3.2,
         997.0,
         41.0,
         70.0,
         2.9,
         26.674999999999997,
         0.55,
         9.2,
         "2025-07-30T14:00:00Z",
         "2025-08-02T19:55:44.88428Z",
         "df026e1455495734838d9d0de67bd6ba30aa485163a52ceb21e4a1f0c405c822",
         true
        ],
        [
         24,
         14141,
         "Sardar Patel Inter College, Baghpat, India",
         "pm25",
         4.6,
         28.0,
         68.0,
         11.6,
         18.9,
         740.0,
         18.0,
         24.0,
         7.4,
         28.2,
         1.9,
         10.2,
         "2025-07-30T15:00:00Z",
         "2025-08-02T19:55:44.88428Z",
         "2e620ba447d1e447b363d2bda9bff3b6afb3d4ff54348e0828600af752faa36b",
         true
        ],
        [
         41,
         14152,
         "Mendonsa Colony, Dindigul, India",
         "pm25",
         0.5,
         20.0,
         46.44,
         0.1,
         3.3,
         969.02,
         23.0,
         41.0,
         8.6,
         38.0,
         3.25,
         11.8,
         "2025-07-30T15:00:00Z",
         "2025-08-02T19:55:44.88428Z",
         "30ac2a0a51f31e1372d80073b62869da64ec1b32a7651b2c31f877843e88500e",
         true
        ],
        [
         35,
         14697,
         "Zero Point GICI, Gangtok, India",
         "pm25",
         1.9,
         17.0,
         97.16,
         1.1,
         18.2,
         616.48,
         2.0,
         35.0,
         0.3,
         20.0,
         0.33,
         7.2,
         "2025-07-30T15:00:00Z",
         "2025-08-02T19:55:44.88428Z",
         "708599c40fa56895eeee5b3b5ed22538dcb3236d6ad00aa0d2fdca8c6ee97639",
         true
        ],
        [
         32,
         14700,
         "Gurdeo Nagar, Aurangabad, India",
         "pm25",
         0.6,
         27.0,
         79.0,
         2.9,
         3.8,
         997.0,
         16.0,
         32.0,
         3.5,
         27.4,
         1.5,
         9.2,
         "2025-07-30T15:00:00Z",
         "2025-08-02T19:55:44.88428Z",
         "baa0cfbd3e2679cceab650d40c1e8962fe2eb5b7e8644e5c5abaef2d152d049e",
         true
        ]
       ],
       "datasetInfos": [
        {
         "name": "_sqldf",
         "schema": {
          "fields": [
           {
            "metadata": {},
            "name": "aqi",
            "nullable": true,
            "type": "integer"
           },
           {
            "metadata": {},
            "name": "idx",
            "nullable": true,
            "type": "integer"
           },
           {
            "metadata": {},
            "name": "city_name",
            "nullable": true,
            "type": "string"
           },
           {
            "metadata": {},
            "name": "dominant_pollutant",
            "nullable": true,
            "type": "string"
           },
           {
            "metadata": {},
            "name": "co",
            "nullable": true,
            "type": "double"
           },
           {
            "metadata": {},
            "name": "dew",
            "nullable": true,
            "type": "double"
           },
           {
            "metadata": {},
            "name": "humidity",
            "nullable": true,
            "type": "double"
           },
           {
            "metadata": {},
            "name": "no2",
            "nullable": true,
            "type": "double"
           },
           {
            "metadata": {},
            "name": "o3",
            "nullable": true,
            "type": "double"
           },
           {
            "metadata": {},
            "name": "pressure",
            "nullable": true,
            "type": "double"
           },
           {
            "metadata": {},
            "name": "pm10",
            "nullable": true,
            "type": "double"
           },
           {
            "metadata": {},
            "name": "pm25",
            "nullable": true,
            "type": "double"
           },
           {
            "metadata": {},
            "name": "so2",
            "nullable": true,
            "type": "double"
           },
           {
            "metadata": {},
            "name": "temperature",
            "nullable": true,
            "type": "double"
           },
           {
            "metadata": {},
            "name": "wind_speed",
            "nullable": true,
            "type": "double"
           },
           {
            "metadata": {},
            "name": "wind_gust",
            "nullable": true,
            "type": "double"
           },
           {
            "metadata": {},
            "name": "time_s",
            "nullable": true,
            "type": "timestamp"
           },
           {
            "metadata": {},
            "name": "Modified_Date",
            "nullable": true,
            "type": "timestamp"
           },
           {
            "metadata": {},
            "name": "hash_key",
            "nullable": true,
            "type": "string"
           },
           {
            "metadata": {},
            "name": "is_active",
            "nullable": true,
            "type": "boolean"
           }
          ],
          "type": "struct"
         },
         "tableIdentifier": null,
         "typeStr": "pyspark.sql.dataframe.DataFrame"
        }
       ],
       "dbfsResultPath": null,
       "isJsonSchema": true,
       "metadata": {
        "createTempViewForImplicitDf": true,
        "dataframeName": "_sqldf",
        "executionCount": 81
       },
       "overflow": false,
       "plotOptions": {
        "customPlotOptions": {},
        "displayType": "table",
        "pivotAggregation": null,
        "pivotColumns": null,
        "xColumns": null,
        "yColumns": null
       },
       "removedWidgets": [],
       "schema": [
        {
         "metadata": "{}",
         "name": "aqi",
         "type": "\"integer\""
        },
        {
         "metadata": "{}",
         "name": "idx",
         "type": "\"integer\""
        },
        {
         "metadata": "{}",
         "name": "city_name",
         "type": "\"string\""
        },
        {
         "metadata": "{}",
         "name": "dominant_pollutant",
         "type": "\"string\""
        },
        {
         "metadata": "{}",
         "name": "co",
         "type": "\"double\""
        },
        {
         "metadata": "{}",
         "name": "dew",
         "type": "\"double\""
        },
        {
         "metadata": "{}",
         "name": "humidity",
         "type": "\"double\""
        },
        {
         "metadata": "{}",
         "name": "no2",
         "type": "\"double\""
        },
        {
         "metadata": "{}",
         "name": "o3",
         "type": "\"double\""
        },
        {
         "metadata": "{}",
         "name": "pressure",
         "type": "\"double\""
        },
        {
         "metadata": "{}",
         "name": "pm10",
         "type": "\"double\""
        },
        {
         "metadata": "{}",
         "name": "pm25",
         "type": "\"double\""
        },
        {
         "metadata": "{}",
         "name": "so2",
         "type": "\"double\""
        },
        {
         "metadata": "{}",
         "name": "temperature",
         "type": "\"double\""
        },
        {
         "metadata": "{}",
         "name": "wind_speed",
         "type": "\"double\""
        },
        {
         "metadata": "{}",
         "name": "wind_gust",
         "type": "\"double\""
        },
        {
         "metadata": "{}",
         "name": "time_s",
         "type": "\"timestamp\""
        },
        {
         "metadata": "{}",
         "name": "Modified_Date",
         "type": "\"timestamp\""
        },
        {
         "metadata": "{}",
         "name": "hash_key",
         "type": "\"string\""
        },
        {
         "metadata": "{}",
         "name": "is_active",
         "type": "\"boolean\""
        }
       ],
       "type": "table"
      }
     },
     "output_type": "display_data"
    }
   ],
   "source": [
    "%sql\n",
    "\n",
    "select * from kafka_azure_databricks.gold.gold_airquality"
   ]
  },
  {
   "cell_type": "code",
   "execution_count": 0,
   "metadata": {
    "application/vnd.databricks.v1+cell": {
     "cellMetadata": {
      "byteLimit": 2048000,
      "implicitDf": true,
      "rowLimit": 10000
     },
     "inputWidgets": {},
     "nuid": "4221eb11-4ee9-47e4-bac3-ea6f63d03e9b",
     "showTitle": false,
     "tableResultSettingsMap": {},
     "title": ""
    }
   },
   "outputs": [
    {
     "output_type": "display_data",
     "data": {
      "text/html": [
       "<style scoped>\n",
       "  .table-result-container {\n",
       "    max-height: 300px;\n",
       "    overflow: auto;\n",
       "  }\n",
       "  table, th, td {\n",
       "    border: 1px solid black;\n",
       "    border-collapse: collapse;\n",
       "  }\n",
       "  th, td {\n",
       "    padding: 5px;\n",
       "  }\n",
       "  th {\n",
       "    text-align: left;\n",
       "  }\n",
       "</style><div class='table-result-container'><table class='table-result'><thead style='background-color: white'><tr><th>aqi</th><th>idx</th><th>city_name</th><th>dominant_pollutant</th><th>co</th><th>dew</th><th>humidity</th><th>no2</th><th>o3</th><th>pressure</th><th>pm10</th><th>pm25</th><th>so2</th><th>temperature</th><th>wind_speed</th><th>wind_gust</th><th>time_s</th><th>Modified_Date</th></tr></thead><tbody><tr><td>59</td><td>8192</td><td>Maninagar, Ahmedabad, India</td><td>pm25</td><td>5.6</td><td>23.0</td><td>99.999</td><td>6.7</td><td>7.8</td><td>1001.0</td><td>56.0</td><td>59.0</td><td>13.3</td><td>29.0</td><td>0.54</td><td>7.7</td><td>2025-07-30T15:00:00Z</td><td>2025-08-02T17:42:27.1Z</td></tr><tr><td>68</td><td>10111</td><td>Major Dhyan Chand National Stadium, Delhi, Delhi, India</td><td>pm25</td><td>3.2</td><td>28.0</td><td>62.75</td><td>10.4</td><td>4.0</td><td>973.05</td><td>37.0</td><td>68.0</td><td>5.2</td><td>31.45</td><td>1.0</td><td>10.2</td><td>2025-07-30T15:00:00Z</td><td>2025-08-02T17:42:27.1Z</td></tr><tr><td>60</td><td>11302</td><td>Yamunapuram, Bulandshahr, India</td><td>pm25</td><td>6.2</td><td>28.0</td><td>67.0</td><td>4.6</td><td>7.4</td><td>734.0</td><td>40.0</td><td>60.0</td><td>7.1</td><td>27.8</td><td>3.9</td><td>10.2</td><td>2025-07-30T15:00:00Z</td><td>2025-08-02T17:42:27.1Z</td></tr><tr><td>70</td><td>11313</td><td>Bhopal Chauraha, Dewas, India</td><td>pm25</td><td>2.9</td><td>23.0</td><td>36.0</td><td>13.9</td><td>10.1</td><td>1004.0</td><td>66.0</td><td>70.0</td><td>26.3</td><td>30.3</td><td>1.0</td><td>9.7</td><td>2025-07-30T15:00:00Z</td><td>2025-08-02T17:42:27.1Z</td></tr><tr><td>88</td><td>11321</td><td>Golden Temple, Amritsar, India</td><td>pm25</td><td>3.5</td><td>26.0</td><td>65.39</td><td>5.4</td><td>12.7</td><td>999.5</td><td>54.0</td><td>88.0</td><td>3.9</td><td>20.88</td><td>1.09</td><td>9.2</td><td>2025-07-30T15:00:00Z</td><td>2025-08-02T17:42:27.1Z</td></tr><tr><td>96</td><td>11843</td><td>GIDC, Ankleshwar, India</td><td>pm25</td><td>3.8</td><td>25.0</td><td>79.79</td><td>10.1</td><td>28.5</td><td>1000.0</td><td>52.0</td><td>96.0</td><td>20.3</td><td>31.84</td><td>3.33</td><td>8.7</td><td>2025-07-30T15:00:00Z</td><td>2025-08-02T17:42:27.1Z</td></tr><tr><td>51</td><td>11847</td><td>SIDCO Kurichi, Coimbatore, India</td><td>pm10</td><td>2.7</td><td>20.0</td><td>52.47</td><td>2.6</td><td>2.6</td><td>800.3</td><td>51.0</td><td>50.0</td><td>9.1</td><td>34.0</td><td>5.41</td><td>12.3</td><td>2025-07-30T15:00:00Z</td><td>2025-08-02T17:42:27.1Z</td></tr><tr><td>113</td><td>11848</td><td>RIICO Ind. Area III, Bhiwadi, India</td><td>pm25</td><td>10.3</td><td>28.0</td><td>96.74</td><td>5.5</td><td>10.5</td><td>733.25</td><td>46.0</td><td>113.0</td><td>3.4</td><td>33.26</td><td>0.24</td><td>10.2</td><td>2025-07-30T15:00:00Z</td><td>2025-08-02T17:42:27.1Z</td></tr><tr><td>55</td><td>11899</td><td>Sanjay Nagar, Ghaziabad, India</td><td>pm25</td><td>5.7</td><td>28.0</td><td>57.0</td><td>11.4</td><td>14.4</td><td>738.0</td><td>46.0</td><td>55.0</td><td>7.7</td><td>29.1</td><td>2.1</td><td>10.2</td><td>2025-07-30T15:00:00Z</td><td>2025-08-02T17:42:27.1Z</td></tr><tr><td>94</td><td>13731</td><td>IIPHG Lekawada, Gandhinagar, India</td><td>pm25</td><td>4.4</td><td>23.0</td><td>87.24</td><td>3.0</td><td>14.2</td><td>1002.7</td><td>70.0</td><td>94.0</td><td>4.9</td><td>29.0</td><td>0.58</td><td>7.7</td><td>2025-07-30T15:00:00Z</td><td>2025-08-02T17:42:27.1Z</td></tr><tr><td>62</td><td>13737</td><td>Royapuram, Chennai, Chennai, India</td><td>pm10</td><td>5.1</td><td>25.0</td><td>57.0</td><td>14.4</td><td>8.3</td><td>733.0</td><td>62.0</td><td>44.0</td><td>2.2</td><td>28.3</td><td>2.9</td><td>10.2</td><td>2025-07-30T15:00:00Z</td><td>2025-08-02T17:42:27.1Z</td></tr><tr><td>148</td><td>13743</td><td>D M Colony, Bihar Sharif, India</td><td>pm25</td><td>0.2</td><td>28.0</td><td>75.0</td><td>3.4</td><td>15.6</td><td>997.0</td><td>66.0</td><td>148.0</td><td>3.7</td><td>33.4</td><td>1.4</td><td>9.2</td><td>2025-07-30T15:00:00Z</td><td>2025-08-02T17:42:27.1Z</td></tr><tr><td>168</td><td>13813</td><td>Darshan Nagar, Chhapra, India</td><td>pm25</td><td>1.1</td><td>28.0</td><td>77.0</td><td>43.9</td><td>15.5</td><td>997.0</td><td>92.0</td><td>168.0</td><td>2.7</td><td>27.8</td><td>1.2</td><td>9.2</td><td>2025-07-30T15:00:00Z</td><td>2025-08-02T17:42:27.1Z</td></tr><tr><td>70</td><td>13874</td><td>New DM Office, Arrah, India</td><td>pm25</td><td>3.1</td><td>27.0</td><td>88.0</td><td>2.5</td><td>3.2</td><td>997.0</td><td>41.0</td><td>70.0</td><td>2.9</td><td>26.674999999999997</td><td>0.55</td><td>9.2</td><td>2025-07-30T14:00:00Z</td><td>2025-08-02T17:42:27.1Z</td></tr><tr><td>24</td><td>14141</td><td>Sardar Patel Inter College, Baghpat, India</td><td>pm25</td><td>4.6</td><td>28.0</td><td>68.0</td><td>11.6</td><td>18.9</td><td>740.0</td><td>18.0</td><td>24.0</td><td>7.4</td><td>28.2</td><td>1.9</td><td>10.2</td><td>2025-07-30T15:00:00Z</td><td>2025-08-02T17:42:27.1Z</td></tr><tr><td>41</td><td>14152</td><td>Mendonsa Colony, Dindigul, India</td><td>pm25</td><td>0.5</td><td>20.0</td><td>46.44</td><td>0.1</td><td>3.3</td><td>969.02</td><td>23.0</td><td>41.0</td><td>8.6</td><td>38.0</td><td>3.25</td><td>11.8</td><td>2025-07-30T15:00:00Z</td><td>2025-08-02T17:42:27.1Z</td></tr><tr><td>35</td><td>14697</td><td>Zero Point GICI, Gangtok, India</td><td>pm25</td><td>1.9</td><td>17.0</td><td>97.16</td><td>1.1</td><td>18.2</td><td>616.48</td><td>2.0</td><td>35.0</td><td>0.3</td><td>20.0</td><td>0.33</td><td>7.2</td><td>2025-07-30T15:00:00Z</td><td>2025-08-02T17:42:27.1Z</td></tr><tr><td>32</td><td>14700</td><td>Gurdeo Nagar, Aurangabad, India</td><td>pm25</td><td>0.6</td><td>27.0</td><td>79.0</td><td>2.9</td><td>3.8</td><td>997.0</td><td>16.0</td><td>32.0</td><td>3.5</td><td>27.4</td><td>1.5</td><td>9.2</td><td>2025-07-30T15:00:00Z</td><td>2025-08-02T17:42:27.1Z</td></tr></tbody></table></div>"
      ]
     },
     "metadata": {
      "application/vnd.databricks.v1+output": {
       "addedWidgets": {},
       "aggData": [],
       "aggError": "",
       "aggOverflow": false,
       "aggSchema": [],
       "aggSeriesLimitReached": false,
       "aggType": "",
       "arguments": {},
       "columnCustomDisplayInfos": {},
       "data": [
        [
         59,
         8192,
         "Maninagar, Ahmedabad, India",
         "pm25",
         5.6,
         23.0,
         99.999,
         6.7,
         7.8,
         1001.0,
         56.0,
         59.0,
         13.3,
         29.0,
         0.54,
         7.7,
         "2025-07-30T15:00:00Z",
         "2025-08-02T17:42:27.1Z"
        ],
        [
         68,
         10111,
         "Major Dhyan Chand National Stadium, Delhi, Delhi, India",
         "pm25",
         3.2,
         28.0,
         62.75,
         10.4,
         4.0,
         973.05,
         37.0,
         68.0,
         5.2,
         31.45,
         1.0,
         10.2,
         "2025-07-30T15:00:00Z",
         "2025-08-02T17:42:27.1Z"
        ],
        [
         60,
         11302,
         "Yamunapuram, Bulandshahr, India",
         "pm25",
         6.2,
         28.0,
         67.0,
         4.6,
         7.4,
         734.0,
         40.0,
         60.0,
         7.1,
         27.8,
         3.9,
         10.2,
         "2025-07-30T15:00:00Z",
         "2025-08-02T17:42:27.1Z"
        ],
        [
         70,
         11313,
         "Bhopal Chauraha, Dewas, India",
         "pm25",
         2.9,
         23.0,
         36.0,
         13.9,
         10.1,
         1004.0,
         66.0,
         70.0,
         26.3,
         30.3,
         1.0,
         9.7,
         "2025-07-30T15:00:00Z",
         "2025-08-02T17:42:27.1Z"
        ],
        [
         88,
         11321,
         "Golden Temple, Amritsar, India",
         "pm25",
         3.5,
         26.0,
         65.39,
         5.4,
         12.7,
         999.5,
         54.0,
         88.0,
         3.9,
         20.88,
         1.09,
         9.2,
         "2025-07-30T15:00:00Z",
         "2025-08-02T17:42:27.1Z"
        ],
        [
         96,
         11843,
         "GIDC, Ankleshwar, India",
         "pm25",
         3.8,
         25.0,
         79.79,
         10.1,
         28.5,
         1000.0,
         52.0,
         96.0,
         20.3,
         31.84,
         3.33,
         8.7,
         "2025-07-30T15:00:00Z",
         "2025-08-02T17:42:27.1Z"
        ],
        [
         51,
         11847,
         "SIDCO Kurichi, Coimbatore, India",
         "pm10",
         2.7,
         20.0,
         52.47,
         2.6,
         2.6,
         800.3,
         51.0,
         50.0,
         9.1,
         34.0,
         5.41,
         12.3,
         "2025-07-30T15:00:00Z",
         "2025-08-02T17:42:27.1Z"
        ],
        [
         113,
         11848,
         "RIICO Ind. Area III, Bhiwadi, India",
         "pm25",
         10.3,
         28.0,
         96.74,
         5.5,
         10.5,
         733.25,
         46.0,
         113.0,
         3.4,
         33.26,
         0.24,
         10.2,
         "2025-07-30T15:00:00Z",
         "2025-08-02T17:42:27.1Z"
        ],
        [
         55,
         11899,
         "Sanjay Nagar, Ghaziabad, India",
         "pm25",
         5.7,
         28.0,
         57.0,
         11.4,
         14.4,
         738.0,
         46.0,
         55.0,
         7.7,
         29.1,
         2.1,
         10.2,
         "2025-07-30T15:00:00Z",
         "2025-08-02T17:42:27.1Z"
        ],
        [
         94,
         13731,
         "IIPHG Lekawada, Gandhinagar, India",
         "pm25",
         4.4,
         23.0,
         87.24,
         3.0,
         14.2,
         1002.7,
         70.0,
         94.0,
         4.9,
         29.0,
         0.58,
         7.7,
         "2025-07-30T15:00:00Z",
         "2025-08-02T17:42:27.1Z"
        ],
        [
         62,
         13737,
         "Royapuram, Chennai, Chennai, India",
         "pm10",
         5.1,
         25.0,
         57.0,
         14.4,
         8.3,
         733.0,
         62.0,
         44.0,
         2.2,
         28.3,
         2.9,
         10.2,
         "2025-07-30T15:00:00Z",
         "2025-08-02T17:42:27.1Z"
        ],
        [
         148,
         13743,
         "D M Colony, Bihar Sharif, India",
         "pm25",
         0.2,
         28.0,
         75.0,
         3.4,
         15.6,
         997.0,
         66.0,
         148.0,
         3.7,
         33.4,
         1.4,
         9.2,
         "2025-07-30T15:00:00Z",
         "2025-08-02T17:42:27.1Z"
        ],
        [
         168,
         13813,
         "Darshan Nagar, Chhapra, India",
         "pm25",
         1.1,
         28.0,
         77.0,
         43.9,
         15.5,
         997.0,
         92.0,
         168.0,
         2.7,
         27.8,
         1.2,
         9.2,
         "2025-07-30T15:00:00Z",
         "2025-08-02T17:42:27.1Z"
        ],
        [
         70,
         13874,
         "New DM Office, Arrah, India",
         "pm25",
         3.1,
         27.0,
         88.0,
         2.5,
         3.2,
         997.0,
         41.0,
         70.0,
         2.9,
         26.674999999999997,
         0.55,
         9.2,
         "2025-07-30T14:00:00Z",
         "2025-08-02T17:42:27.1Z"
        ],
        [
         24,
         14141,
         "Sardar Patel Inter College, Baghpat, India",
         "pm25",
         4.6,
         28.0,
         68.0,
         11.6,
         18.9,
         740.0,
         18.0,
         24.0,
         7.4,
         28.2,
         1.9,
         10.2,
         "2025-07-30T15:00:00Z",
         "2025-08-02T17:42:27.1Z"
        ],
        [
         41,
         14152,
         "Mendonsa Colony, Dindigul, India",
         "pm25",
         0.5,
         20.0,
         46.44,
         0.1,
         3.3,
         969.02,
         23.0,
         41.0,
         8.6,
         38.0,
         3.25,
         11.8,
         "2025-07-30T15:00:00Z",
         "2025-08-02T17:42:27.1Z"
        ],
        [
         35,
         14697,
         "Zero Point GICI, Gangtok, India",
         "pm25",
         1.9,
         17.0,
         97.16,
         1.1,
         18.2,
         616.48,
         2.0,
         35.0,
         0.3,
         20.0,
         0.33,
         7.2,
         "2025-07-30T15:00:00Z",
         "2025-08-02T17:42:27.1Z"
        ],
        [
         32,
         14700,
         "Gurdeo Nagar, Aurangabad, India",
         "pm25",
         0.6,
         27.0,
         79.0,
         2.9,
         3.8,
         997.0,
         16.0,
         32.0,
         3.5,
         27.4,
         1.5,
         9.2,
         "2025-07-30T15:00:00Z",
         "2025-08-02T17:42:27.1Z"
        ]
       ],
       "datasetInfos": [
        {
         "name": "_sqldf",
         "schema": {
          "fields": [
           {
            "metadata": {},
            "name": "aqi",
            "nullable": true,
            "type": "integer"
           },
           {
            "metadata": {},
            "name": "idx",
            "nullable": true,
            "type": "integer"
           },
           {
            "metadata": {},
            "name": "city_name",
            "nullable": true,
            "type": "string"
           },
           {
            "metadata": {},
            "name": "dominant_pollutant",
            "nullable": true,
            "type": "string"
           },
           {
            "metadata": {},
            "name": "co",
            "nullable": true,
            "type": "double"
           },
           {
            "metadata": {},
            "name": "dew",
            "nullable": true,
            "type": "double"
           },
           {
            "metadata": {},
            "name": "humidity",
            "nullable": true,
            "type": "double"
           },
           {
            "metadata": {},
            "name": "no2",
            "nullable": true,
            "type": "double"
           },
           {
            "metadata": {},
            "name": "o3",
            "nullable": true,
            "type": "double"
           },
           {
            "metadata": {},
            "name": "pressure",
            "nullable": true,
            "type": "double"
           },
           {
            "metadata": {},
            "name": "pm10",
            "nullable": true,
            "type": "double"
           },
           {
            "metadata": {},
            "name": "pm25",
            "nullable": true,
            "type": "double"
           },
           {
            "metadata": {},
            "name": "so2",
            "nullable": true,
            "type": "double"
           },
           {
            "metadata": {},
            "name": "temperature",
            "nullable": true,
            "type": "double"
           },
           {
            "metadata": {},
            "name": "wind_speed",
            "nullable": true,
            "type": "double"
           },
           {
            "metadata": {},
            "name": "wind_gust",
            "nullable": true,
            "type": "double"
           },
           {
            "metadata": {},
            "name": "time_s",
            "nullable": true,
            "type": "timestamp"
           },
           {
            "metadata": {},
            "name": "Modified_Date",
            "nullable": true,
            "type": "timestamp"
           }
          ],
          "type": "struct"
         },
         "tableIdentifier": null,
         "typeStr": "pyspark.sql.dataframe.DataFrame"
        }
       ],
       "dbfsResultPath": null,
       "isJsonSchema": true,
       "metadata": {
        "createTempViewForImplicitDf": true,
        "dataframeName": "_sqldf",
        "executionCount": 82
       },
       "overflow": false,
       "plotOptions": {
        "customPlotOptions": {},
        "displayType": "table",
        "pivotAggregation": null,
        "pivotColumns": null,
        "xColumns": null,
        "yColumns": null
       },
       "removedWidgets": [],
       "schema": [
        {
         "metadata": "{}",
         "name": "aqi",
         "type": "\"integer\""
        },
        {
         "metadata": "{}",
         "name": "idx",
         "type": "\"integer\""
        },
        {
         "metadata": "{}",
         "name": "city_name",
         "type": "\"string\""
        },
        {
         "metadata": "{}",
         "name": "dominant_pollutant",
         "type": "\"string\""
        },
        {
         "metadata": "{}",
         "name": "co",
         "type": "\"double\""
        },
        {
         "metadata": "{}",
         "name": "dew",
         "type": "\"double\""
        },
        {
         "metadata": "{}",
         "name": "humidity",
         "type": "\"double\""
        },
        {
         "metadata": "{}",
         "name": "no2",
         "type": "\"double\""
        },
        {
         "metadata": "{}",
         "name": "o3",
         "type": "\"double\""
        },
        {
         "metadata": "{}",
         "name": "pressure",
         "type": "\"double\""
        },
        {
         "metadata": "{}",
         "name": "pm10",
         "type": "\"double\""
        },
        {
         "metadata": "{}",
         "name": "pm25",
         "type": "\"double\""
        },
        {
         "metadata": "{}",
         "name": "so2",
         "type": "\"double\""
        },
        {
         "metadata": "{}",
         "name": "temperature",
         "type": "\"double\""
        },
        {
         "metadata": "{}",
         "name": "wind_speed",
         "type": "\"double\""
        },
        {
         "metadata": "{}",
         "name": "wind_gust",
         "type": "\"double\""
        },
        {
         "metadata": "{}",
         "name": "time_s",
         "type": "\"timestamp\""
        },
        {
         "metadata": "{}",
         "name": "Modified_Date",
         "type": "\"timestamp\""
        }
       ],
       "type": "table"
      }
     },
     "output_type": "display_data"
    }
   ],
   "source": [
    "%sql\n",
    "select * from kafka_azure_databricks.silver.silver_airquality"
   ]
  },
  {
   "cell_type": "code",
   "execution_count": 0,
   "metadata": {
    "application/vnd.databricks.v1+cell": {
     "cellMetadata": {
      "byteLimit": 2048000,
      "rowLimit": 10000
     },
     "inputWidgets": {},
     "nuid": "3981019f-061d-4fcf-8ae5-b5021efbb194",
     "showTitle": false,
     "tableResultSettingsMap": {},
     "title": ""
    }
   },
   "outputs": [],
   "source": []
  }
 ],
 "metadata": {
  "application/vnd.databricks.v1+notebook": {
   "computePreferences": null,
   "dashboards": [],
   "environmentMetadata": {
    "base_environment": "",
    "environment_version": "2"
   },
   "inputWidgetPreferences": null,
   "language": "python",
   "notebookMetadata": {
    "mostRecentlyExecutedCommandWithImplicitDF": {
     "commandId": 6387683332039873,
     "dataframes": [
      "_sqldf"
     ]
    },
    "pythonIndentUnit": 4
   },
   "notebookName": "Query",
   "widgets": {}
  },
  "language_info": {
   "name": "python"
  }
 },
 "nbformat": 4,
 "nbformat_minor": 0
}